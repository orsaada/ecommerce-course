{
  "nbformat": 4,
  "nbformat_minor": 0,
  "metadata": {
    "colab": {
      "name": "318473477_205859721_311281661.ipynb",
      "provenance": [],
      "collapsed_sections": [],
      "machine_shape": "hm"
    },
    "kernelspec": {
      "name": "python3",
      "display_name": "Python 3"
    },
    "accelerator": "TPU"
  },
  "cells": [
    {
      "cell_type": "markdown",
      "metadata": {
        "id": "WpKIpyF6XDwS",
        "colab_type": "text"
      },
      "source": [
        "Exercise 1 A "
      ]
    },
    {
      "cell_type": "code",
      "metadata": {
        "id": "lN_WqVre6gBs",
        "colab_type": "code",
        "colab": {}
      },
      "source": [
        "import pandas as pd\n",
        "import matplotlib.pyplot as plt\n",
        "from collections import Counter\n",
        "import numpy as np\n",
        "from sklearn import linear_model\n",
        "from sklearn import metrics\n",
        "\n",
        "pd.set_option('display.max_columns', None)"
      ],
      "execution_count": null,
      "outputs": []
    },
    {
      "cell_type": "markdown",
      "metadata": {
        "id": "8azuhojD5tbg",
        "colab_type": "text"
      },
      "source": [
        "Getting each file and make it dataframe"
      ]
    },
    {
      "cell_type": "code",
      "metadata": {
        "id": "kpuVR3IF-9pr",
        "colab_type": "code",
        "colab": {}
      },
      "source": [
        "def parse(x):\n",
        "  try:\n",
        "      return float(x)\n",
        "  except:\n",
        "      return x"
      ],
      "execution_count": null,
      "outputs": []
    },
    {
      "cell_type": "code",
      "metadata": {
        "id": "TF3Udkn8RMs5",
        "colab_type": "code",
        "colab": {
          "base_uri": "https://localhost:8080/",
          "height": 50
        },
        "outputId": "d1b2099a-80fe-4b42-d56e-091fe4d71dd8"
      },
      "source": [
        "def generate_df_from_file(file_name,df_cols,encoding='utf-8',split_by='|',selected_type=object):\n",
        "  print('df is created for file {}'.format(file_name))\n",
        "  return pd.read_csv(file_name,delimiter=split_by,names=df_cols,encoding=encoding)\n",
        "\n",
        "item_columns  = ['movie id' , 'movie title' , 'release date' , 'video release date' ,\n",
        "              'IMDb URL' , 'unknown' , 'Action' , 'Adventure' , 'Animation' ,\n",
        "              'Children\\'s' , 'Comedy' , 'Crime' , 'Documentary' , 'Drama' , 'Fantasy' ,\n",
        "              'Film-Noir' , 'Horror' , 'Musical' , 'Mystery' , 'Romance' , 'Sci-Fi' ,\n",
        "              'Thriller' , 'War' , 'Western']\n",
        "data_df_before_filter = generate_df_from_file('u.data',['user id','movie id','rating','timestamp'],split_by='\\t')\n",
        "items_df = generate_df_from_file('u.item',item_columns,encoding=\"ISO-8859-1\")\n"
      ],
      "execution_count": null,
      "outputs": [
        {
          "output_type": "stream",
          "text": [
            "df is created for file u.data\n",
            "df is created for file u.item\n"
          ],
          "name": "stdout"
        }
      ]
    },
    {
      "cell_type": "markdown",
      "metadata": {
        "id": "YFcSVL47reCz",
        "colab_type": "text"
      },
      "source": [
        "Let's filter the data so it will keep only movies that appears in more than 0.001% of the rating records "
      ]
    },
    {
      "cell_type": "code",
      "metadata": {
        "id": "mj5xwidVIWEM",
        "colab_type": "code",
        "colab": {}
      },
      "source": [
        "def filter_data(data_df_before_filter):  \n",
        "  items_freequency = data_df_before_filter.groupby(['movie id']).count()\n",
        "  rated_items = items_freequency[items_freequency['user id'] > int(0.0001*len(data_df_before_filter))]\n",
        "  data_df = data_df_before_filter[data_df_before_filter['movie id'].isin(rated_items.index)]\n",
        "  return data_df\n",
        "\n",
        "\n",
        "data_df = filter_data(data_df_before_filter)"
      ],
      "execution_count": null,
      "outputs": []
    },
    {
      "cell_type": "markdown",
      "metadata": {
        "id": "jYiORWiK8nxC",
        "colab_type": "text"
      },
      "source": [
        "Calculate average rating per movie\n"
      ]
    },
    {
      "cell_type": "code",
      "metadata": {
        "id": "mmqQl6mDRTtP",
        "colab_type": "code",
        "colab": {
          "base_uri": "https://localhost:8080/",
          "height": 402
        },
        "outputId": "02c6ed8a-b8fd-4cda-a319-4705551af2af"
      },
      "source": [
        "def get_movies_avg_by_data(df_of_data,rating_col_name = 'rating'):\n",
        "  res = pd.DataFrame(df_of_data.groupby(['movie id'])[rating_col_name].mean()).sort_values(by=[rating_col_name],ascending=False)\n",
        "  res.columns=['avg rating']\n",
        "  return res.merge(items_df, on='movie id', how='inner').iloc[:,:3]\n",
        "  \n",
        "avg_movie_rating_df = get_movies_avg_by_data(data_df)\n",
        "avg_movie_rating_df"
      ],
      "execution_count": null,
      "outputs": [
        {
          "output_type": "execute_result",
          "data": {
            "text/html": [
              "<div>\n",
              "<style scoped>\n",
              "    .dataframe tbody tr th:only-of-type {\n",
              "        vertical-align: middle;\n",
              "    }\n",
              "\n",
              "    .dataframe tbody tr th {\n",
              "        vertical-align: top;\n",
              "    }\n",
              "\n",
              "    .dataframe thead th {\n",
              "        text-align: right;\n",
              "    }\n",
              "</style>\n",
              "<table border=\"1\" class=\"dataframe\">\n",
              "  <thead>\n",
              "    <tr style=\"text-align: right;\">\n",
              "      <th></th>\n",
              "      <th>movie id</th>\n",
              "      <th>avg rating</th>\n",
              "      <th>movie title</th>\n",
              "    </tr>\n",
              "  </thead>\n",
              "  <tbody>\n",
              "    <tr>\n",
              "      <th>0</th>\n",
              "      <td>408</td>\n",
              "      <td>4.491071</td>\n",
              "      <td>Close Shave, A (1995)</td>\n",
              "    </tr>\n",
              "    <tr>\n",
              "      <th>1</th>\n",
              "      <td>318</td>\n",
              "      <td>4.466443</td>\n",
              "      <td>Schindler's List (1993)</td>\n",
              "    </tr>\n",
              "    <tr>\n",
              "      <th>2</th>\n",
              "      <td>169</td>\n",
              "      <td>4.466102</td>\n",
              "      <td>Wrong Trousers, The (1993)</td>\n",
              "    </tr>\n",
              "    <tr>\n",
              "      <th>3</th>\n",
              "      <td>483</td>\n",
              "      <td>4.456790</td>\n",
              "      <td>Casablanca (1942)</td>\n",
              "    </tr>\n",
              "    <tr>\n",
              "      <th>4</th>\n",
              "      <td>114</td>\n",
              "      <td>4.447761</td>\n",
              "      <td>Wallace &amp; Gromit: The Best of Aardman Animatio...</td>\n",
              "    </tr>\n",
              "    <tr>\n",
              "      <th>...</th>\n",
              "      <td>...</td>\n",
              "      <td>...</td>\n",
              "      <td>...</td>\n",
              "    </tr>\n",
              "    <tr>\n",
              "      <th>1114</th>\n",
              "      <td>1274</td>\n",
              "      <td>1.727273</td>\n",
              "      <td>Robocop 3 (1993)</td>\n",
              "    </tr>\n",
              "    <tr>\n",
              "      <th>1115</th>\n",
              "      <td>758</td>\n",
              "      <td>1.714286</td>\n",
              "      <td>Lawnmower Man 2: Beyond Cyberspace (1996)</td>\n",
              "    </tr>\n",
              "    <tr>\n",
              "      <th>1116</th>\n",
              "      <td>440</td>\n",
              "      <td>1.642857</td>\n",
              "      <td>Amityville II: The Possession (1982)</td>\n",
              "    </tr>\n",
              "    <tr>\n",
              "      <th>1117</th>\n",
              "      <td>669</td>\n",
              "      <td>1.615385</td>\n",
              "      <td>Body Parts (1991)</td>\n",
              "    </tr>\n",
              "    <tr>\n",
              "      <th>1118</th>\n",
              "      <td>424</td>\n",
              "      <td>1.315789</td>\n",
              "      <td>Children of the Corn: The Gathering (1996)</td>\n",
              "    </tr>\n",
              "  </tbody>\n",
              "</table>\n",
              "<p>1119 rows × 3 columns</p>\n",
              "</div>"
            ],
            "text/plain": [
              "      movie id  avg rating                                        movie title\n",
              "0          408    4.491071                              Close Shave, A (1995)\n",
              "1          318    4.466443                            Schindler's List (1993)\n",
              "2          169    4.466102                         Wrong Trousers, The (1993)\n",
              "3          483    4.456790                                  Casablanca (1942)\n",
              "4          114    4.447761  Wallace & Gromit: The Best of Aardman Animatio...\n",
              "...        ...         ...                                                ...\n",
              "1114      1274    1.727273                                   Robocop 3 (1993)\n",
              "1115       758    1.714286          Lawnmower Man 2: Beyond Cyberspace (1996)\n",
              "1116       440    1.642857               Amityville II: The Possession (1982)\n",
              "1117       669    1.615385                                  Body Parts (1991)\n",
              "1118       424    1.315789         Children of the Corn: The Gathering (1996)\n",
              "\n",
              "[1119 rows x 3 columns]"
            ]
          },
          "metadata": {
            "tags": []
          },
          "execution_count": 17
        }
      ]
    },
    {
      "cell_type": "markdown",
      "metadata": {
        "id": "A_hNh-OP5-sa",
        "colab_type": "text"
      },
      "source": [
        "Extracting the top 3 rated movies"
      ]
    },
    {
      "cell_type": "code",
      "metadata": {
        "id": "AmMjUd-TkNtQ",
        "colab_type": "code",
        "colab": {
          "base_uri": "https://localhost:8080/",
          "height": 289
        },
        "outputId": "7ab812b9-6e6f-446d-8e30-7157c8303180"
      },
      "source": [
        "top_rated_movies = avg_movie_rating_df.iloc[:3,:]\n",
        "top_rated_movies.merge(items_df,on='movie id')"
      ],
      "execution_count": null,
      "outputs": [
        {
          "output_type": "execute_result",
          "data": {
            "text/html": [
              "<div>\n",
              "<style scoped>\n",
              "    .dataframe tbody tr th:only-of-type {\n",
              "        vertical-align: middle;\n",
              "    }\n",
              "\n",
              "    .dataframe tbody tr th {\n",
              "        vertical-align: top;\n",
              "    }\n",
              "\n",
              "    .dataframe thead th {\n",
              "        text-align: right;\n",
              "    }\n",
              "</style>\n",
              "<table border=\"1\" class=\"dataframe\">\n",
              "  <thead>\n",
              "    <tr style=\"text-align: right;\">\n",
              "      <th></th>\n",
              "      <th>movie id</th>\n",
              "      <th>avg rating</th>\n",
              "      <th>movie title_x</th>\n",
              "      <th>movie title_y</th>\n",
              "      <th>release date</th>\n",
              "      <th>video release date</th>\n",
              "      <th>IMDb URL</th>\n",
              "      <th>unknown</th>\n",
              "      <th>Action</th>\n",
              "      <th>Adventure</th>\n",
              "      <th>Animation</th>\n",
              "      <th>Children's</th>\n",
              "      <th>Comedy</th>\n",
              "      <th>Crime</th>\n",
              "      <th>Documentary</th>\n",
              "      <th>Drama</th>\n",
              "      <th>Fantasy</th>\n",
              "      <th>Film-Noir</th>\n",
              "      <th>Horror</th>\n",
              "      <th>Musical</th>\n",
              "      <th>Mystery</th>\n",
              "      <th>Romance</th>\n",
              "      <th>Sci-Fi</th>\n",
              "      <th>Thriller</th>\n",
              "      <th>War</th>\n",
              "      <th>Western</th>\n",
              "    </tr>\n",
              "  </thead>\n",
              "  <tbody>\n",
              "    <tr>\n",
              "      <th>0</th>\n",
              "      <td>408</td>\n",
              "      <td>4.491071</td>\n",
              "      <td>Close Shave, A (1995)</td>\n",
              "      <td>Close Shave, A (1995)</td>\n",
              "      <td>28-Apr-1996</td>\n",
              "      <td>NaN</td>\n",
              "      <td>http://us.imdb.com/M/title-exact?Close%20Shave...</td>\n",
              "      <td>0</td>\n",
              "      <td>0</td>\n",
              "      <td>0</td>\n",
              "      <td>1</td>\n",
              "      <td>0</td>\n",
              "      <td>1</td>\n",
              "      <td>0</td>\n",
              "      <td>0</td>\n",
              "      <td>0</td>\n",
              "      <td>0</td>\n",
              "      <td>0</td>\n",
              "      <td>0</td>\n",
              "      <td>0</td>\n",
              "      <td>0</td>\n",
              "      <td>0</td>\n",
              "      <td>0</td>\n",
              "      <td>1</td>\n",
              "      <td>0</td>\n",
              "      <td>0</td>\n",
              "    </tr>\n",
              "    <tr>\n",
              "      <th>1</th>\n",
              "      <td>318</td>\n",
              "      <td>4.466443</td>\n",
              "      <td>Schindler's List (1993)</td>\n",
              "      <td>Schindler's List (1993)</td>\n",
              "      <td>01-Jan-1993</td>\n",
              "      <td>NaN</td>\n",
              "      <td>http://us.imdb.com/M/title-exact?Schindler's%2...</td>\n",
              "      <td>0</td>\n",
              "      <td>0</td>\n",
              "      <td>0</td>\n",
              "      <td>0</td>\n",
              "      <td>0</td>\n",
              "      <td>0</td>\n",
              "      <td>0</td>\n",
              "      <td>0</td>\n",
              "      <td>1</td>\n",
              "      <td>0</td>\n",
              "      <td>0</td>\n",
              "      <td>0</td>\n",
              "      <td>0</td>\n",
              "      <td>0</td>\n",
              "      <td>0</td>\n",
              "      <td>0</td>\n",
              "      <td>0</td>\n",
              "      <td>1</td>\n",
              "      <td>0</td>\n",
              "    </tr>\n",
              "    <tr>\n",
              "      <th>2</th>\n",
              "      <td>169</td>\n",
              "      <td>4.466102</td>\n",
              "      <td>Wrong Trousers, The (1993)</td>\n",
              "      <td>Wrong Trousers, The (1993)</td>\n",
              "      <td>01-Jan-1993</td>\n",
              "      <td>NaN</td>\n",
              "      <td>http://us.imdb.com/M/title-exact?Wrong%20Trous...</td>\n",
              "      <td>0</td>\n",
              "      <td>0</td>\n",
              "      <td>0</td>\n",
              "      <td>1</td>\n",
              "      <td>0</td>\n",
              "      <td>1</td>\n",
              "      <td>0</td>\n",
              "      <td>0</td>\n",
              "      <td>0</td>\n",
              "      <td>0</td>\n",
              "      <td>0</td>\n",
              "      <td>0</td>\n",
              "      <td>0</td>\n",
              "      <td>0</td>\n",
              "      <td>0</td>\n",
              "      <td>0</td>\n",
              "      <td>0</td>\n",
              "      <td>0</td>\n",
              "      <td>0</td>\n",
              "    </tr>\n",
              "  </tbody>\n",
              "</table>\n",
              "</div>"
            ],
            "text/plain": [
              "   movie id  avg rating               movie title_x  \\\n",
              "0       408    4.491071       Close Shave, A (1995)   \n",
              "1       318    4.466443     Schindler's List (1993)   \n",
              "2       169    4.466102  Wrong Trousers, The (1993)   \n",
              "\n",
              "                movie title_y release date  video release date  \\\n",
              "0       Close Shave, A (1995)  28-Apr-1996                 NaN   \n",
              "1     Schindler's List (1993)  01-Jan-1993                 NaN   \n",
              "2  Wrong Trousers, The (1993)  01-Jan-1993                 NaN   \n",
              "\n",
              "                                            IMDb URL  unknown  Action  \\\n",
              "0  http://us.imdb.com/M/title-exact?Close%20Shave...        0       0   \n",
              "1  http://us.imdb.com/M/title-exact?Schindler's%2...        0       0   \n",
              "2  http://us.imdb.com/M/title-exact?Wrong%20Trous...        0       0   \n",
              "\n",
              "   Adventure  Animation  Children's  Comedy  Crime  Documentary  Drama  \\\n",
              "0          0          1           0       1      0            0      0   \n",
              "1          0          0           0       0      0            0      1   \n",
              "2          0          1           0       1      0            0      0   \n",
              "\n",
              "   Fantasy  Film-Noir  Horror  Musical  Mystery  Romance  Sci-Fi  Thriller  \\\n",
              "0        0          0       0        0        0        0       0         1   \n",
              "1        0          0       0        0        0        0       0         0   \n",
              "2        0          0       0        0        0        0       0         0   \n",
              "\n",
              "   War  Western  \n",
              "0    0        0  \n",
              "1    1        0  \n",
              "2    0        0  "
            ]
          },
          "metadata": {
            "tags": []
          },
          "execution_count": 18
        }
      ]
    },
    {
      "cell_type": "markdown",
      "metadata": {
        "id": "ZIEJaaZywNGS",
        "colab_type": "text"
      },
      "source": [
        "Distribution of avg. rating"
      ]
    },
    {
      "cell_type": "code",
      "metadata": {
        "id": "URV8OI9NKUbq",
        "colab_type": "code",
        "colab": {
          "base_uri": "https://localhost:8080/",
          "height": 281
        },
        "outputId": "32b95fec-e378-4c51-aa06-6b30c9a15b87"
      },
      "source": [
        "def hist_for_avg(df):\n",
        "  res = pd.DataFrame(columns=['avg rating','movie ids'],data=df.groupby(['avg rating']))\n",
        "  res.hist(range=(1,5))\n",
        "\n",
        "hist_for_avg(avg_movie_rating_df)"
      ],
      "execution_count": null,
      "outputs": [
        {
          "output_type": "display_data",
          "data": {
            "image/png": "[encoded data removed]",
            "text/plain": [
              "<Figure size 432x288 with 1 Axes>"
            ]
          },
          "metadata": {
            "tags": [],
            "needs_background": "light"
          }
        }
      ]
    },
    {
      "cell_type": "markdown",
      "metadata": {
        "id": "oZnLdlu08RYR",
        "colab_type": "text"
      },
      "source": [
        "**Exercise 1B - For men**"
      ]
    },
    {
      "cell_type": "code",
      "metadata": {
        "id": "4ioIl-BX8ZSh",
        "colab_type": "code",
        "colab": {
          "base_uri": "https://localhost:8080/",
          "height": 33
        },
        "outputId": "533c2bb5-1235-4839-daf6-d3aed1816d17"
      },
      "source": [
        "users_columns = ['user id' , 'age' , 'gender' , 'occupation' , 'zip code']\n",
        "users_df = generate_df_from_file('u.user',users_columns,encoding=\"ISO-8859-1\")"
      ],
      "execution_count": null,
      "outputs": [
        {
          "output_type": "stream",
          "text": [
            "df is created for file u.user\n"
          ],
          "name": "stdout"
        }
      ]
    },
    {
      "cell_type": "markdown",
      "metadata": {
        "id": "UwDJFlETCY2Q",
        "colab_type": "text"
      },
      "source": [
        "**Get mens df** "
      ]
    },
    {
      "cell_type": "code",
      "metadata": {
        "id": "EHQBoAgVCX13",
        "colab_type": "code",
        "colab": {}
      },
      "source": [
        "men_users = users_df[users_df['gender'] == 'M']\n",
        "men_users_ids = men_users['user id'].tolist()\n",
        "men_df = data_df[data_df['user id'].isin(men_users_ids)].sort_values(by='user id')"
      ],
      "execution_count": null,
      "outputs": []
    },
    {
      "cell_type": "code",
      "metadata": {
        "id": "06Mf-4v7XQND",
        "colab_type": "code",
        "colab": {
          "base_uri": "https://localhost:8080/",
          "height": 273
        },
        "outputId": "8848a5c7-7564-4828-c80a-69514a2da8a2"
      },
      "source": [
        "avg_movie_rating_df_for_men = get_movies_avg_by_data(men_df)\n",
        "avg_movie_rating_df_for_men.iloc[:3,:].merge(items_df,on='movie id')"
      ],
      "execution_count": null,
      "outputs": [
        {
          "output_type": "execute_result",
          "data": {
            "text/html": [
              "<div>\n",
              "<style scoped>\n",
              "    .dataframe tbody tr th:only-of-type {\n",
              "        vertical-align: middle;\n",
              "    }\n",
              "\n",
              "    .dataframe tbody tr th {\n",
              "        vertical-align: top;\n",
              "    }\n",
              "\n",
              "    .dataframe thead th {\n",
              "        text-align: right;\n",
              "    }\n",
              "</style>\n",
              "<table border=\"1\" class=\"dataframe\">\n",
              "  <thead>\n",
              "    <tr style=\"text-align: right;\">\n",
              "      <th></th>\n",
              "      <th>movie id</th>\n",
              "      <th>avg rating</th>\n",
              "      <th>movie title_x</th>\n",
              "      <th>movie title_y</th>\n",
              "      <th>release date</th>\n",
              "      <th>video release date</th>\n",
              "      <th>IMDb URL</th>\n",
              "      <th>unknown</th>\n",
              "      <th>Action</th>\n",
              "      <th>Adventure</th>\n",
              "      <th>Animation</th>\n",
              "      <th>Children's</th>\n",
              "      <th>Comedy</th>\n",
              "      <th>Crime</th>\n",
              "      <th>Documentary</th>\n",
              "      <th>Drama</th>\n",
              "      <th>Fantasy</th>\n",
              "      <th>Film-Noir</th>\n",
              "      <th>Horror</th>\n",
              "      <th>Musical</th>\n",
              "      <th>Mystery</th>\n",
              "      <th>Romance</th>\n",
              "      <th>Sci-Fi</th>\n",
              "      <th>Thriller</th>\n",
              "      <th>War</th>\n",
              "      <th>Western</th>\n",
              "    </tr>\n",
              "  </thead>\n",
              "  <tbody>\n",
              "    <tr>\n",
              "      <th>0</th>\n",
              "      <td>483</td>\n",
              "      <td>4.473404</td>\n",
              "      <td>Casablanca (1942)</td>\n",
              "      <td>Casablanca (1942)</td>\n",
              "      <td>01-Jan-1942</td>\n",
              "      <td>NaN</td>\n",
              "      <td>http://us.imdb.com/M/title-exact?Casablanca%20...</td>\n",
              "      <td>0</td>\n",
              "      <td>0</td>\n",
              "      <td>0</td>\n",
              "      <td>0</td>\n",
              "      <td>0</td>\n",
              "      <td>0</td>\n",
              "      <td>0</td>\n",
              "      <td>0</td>\n",
              "      <td>1</td>\n",
              "      <td>0</td>\n",
              "      <td>0</td>\n",
              "      <td>0</td>\n",
              "      <td>0</td>\n",
              "      <td>0</td>\n",
              "      <td>1</td>\n",
              "      <td>0</td>\n",
              "      <td>0</td>\n",
              "      <td>1</td>\n",
              "      <td>0</td>\n",
              "    </tr>\n",
              "    <tr>\n",
              "      <th>1</th>\n",
              "      <td>169</td>\n",
              "      <td>4.472527</td>\n",
              "      <td>Wrong Trousers, The (1993)</td>\n",
              "      <td>Wrong Trousers, The (1993)</td>\n",
              "      <td>01-Jan-1993</td>\n",
              "      <td>NaN</td>\n",
              "      <td>http://us.imdb.com/M/title-exact?Wrong%20Trous...</td>\n",
              "      <td>0</td>\n",
              "      <td>0</td>\n",
              "      <td>0</td>\n",
              "      <td>1</td>\n",
              "      <td>0</td>\n",
              "      <td>1</td>\n",
              "      <td>0</td>\n",
              "      <td>0</td>\n",
              "      <td>0</td>\n",
              "      <td>0</td>\n",
              "      <td>0</td>\n",
              "      <td>0</td>\n",
              "      <td>0</td>\n",
              "      <td>0</td>\n",
              "      <td>0</td>\n",
              "      <td>0</td>\n",
              "      <td>0</td>\n",
              "      <td>0</td>\n",
              "      <td>0</td>\n",
              "    </tr>\n",
              "    <tr>\n",
              "      <th>2</th>\n",
              "      <td>408</td>\n",
              "      <td>4.462366</td>\n",
              "      <td>Close Shave, A (1995)</td>\n",
              "      <td>Close Shave, A (1995)</td>\n",
              "      <td>28-Apr-1996</td>\n",
              "      <td>NaN</td>\n",
              "      <td>http://us.imdb.com/M/title-exact?Close%20Shave...</td>\n",
              "      <td>0</td>\n",
              "      <td>0</td>\n",
              "      <td>0</td>\n",
              "      <td>1</td>\n",
              "      <td>0</td>\n",
              "      <td>1</td>\n",
              "      <td>0</td>\n",
              "      <td>0</td>\n",
              "      <td>0</td>\n",
              "      <td>0</td>\n",
              "      <td>0</td>\n",
              "      <td>0</td>\n",
              "      <td>0</td>\n",
              "      <td>0</td>\n",
              "      <td>0</td>\n",
              "      <td>0</td>\n",
              "      <td>1</td>\n",
              "      <td>0</td>\n",
              "      <td>0</td>\n",
              "    </tr>\n",
              "  </tbody>\n",
              "</table>\n",
              "</div>"
            ],
            "text/plain": [
              "   movie id  avg rating               movie title_x  \\\n",
              "0       483    4.473404           Casablanca (1942)   \n",
              "1       169    4.472527  Wrong Trousers, The (1993)   \n",
              "2       408    4.462366       Close Shave, A (1995)   \n",
              "\n",
              "                movie title_y release date  video release date  \\\n",
              "0           Casablanca (1942)  01-Jan-1942                 NaN   \n",
              "1  Wrong Trousers, The (1993)  01-Jan-1993                 NaN   \n",
              "2       Close Shave, A (1995)  28-Apr-1996                 NaN   \n",
              "\n",
              "                                            IMDb URL  unknown  Action  \\\n",
              "0  http://us.imdb.com/M/title-exact?Casablanca%20...        0       0   \n",
              "1  http://us.imdb.com/M/title-exact?Wrong%20Trous...        0       0   \n",
              "2  http://us.imdb.com/M/title-exact?Close%20Shave...        0       0   \n",
              "\n",
              "   Adventure  Animation  Children's  Comedy  Crime  Documentary  Drama  \\\n",
              "0          0          0           0       0      0            0      1   \n",
              "1          0          1           0       1      0            0      0   \n",
              "2          0          1           0       1      0            0      0   \n",
              "\n",
              "   Fantasy  Film-Noir  Horror  Musical  Mystery  Romance  Sci-Fi  Thriller  \\\n",
              "0        0          0       0        0        0        1       0         0   \n",
              "1        0          0       0        0        0        0       0         0   \n",
              "2        0          0       0        0        0        0       0         1   \n",
              "\n",
              "   War  Western  \n",
              "0    1        0  \n",
              "1    0        0  \n",
              "2    0        0  "
            ]
          },
          "metadata": {
            "tags": []
          },
          "execution_count": 22
        }
      ]
    },
    {
      "cell_type": "code",
      "metadata": {
        "id": "jdDCbypLXQMC",
        "colab_type": "code",
        "colab": {
          "base_uri": "https://localhost:8080/",
          "height": 281
        },
        "outputId": "67b91d5d-abe3-4f3e-dc7b-387ec515e6ab"
      },
      "source": [
        "hist_for_avg(avg_movie_rating_df_for_men)"
      ],
      "execution_count": null,
      "outputs": [
        {
          "output_type": "display_data",
          "data": {
            "image/png": "[encoded data removed]",
            "text/plain": [
              "<Figure size 432x288 with 1 Axes>"
            ]
          },
          "metadata": {
            "tags": [],
            "needs_background": "light"
          }
        }
      ]
    },
    {
      "cell_type": "markdown",
      "metadata": {
        "id": "4Hsl1jmECquk",
        "colab_type": "text"
      },
      "source": [
        "**Get women df**"
      ]
    },
    {
      "cell_type": "code",
      "metadata": {
        "id": "4uTxMxu0C1v8",
        "colab_type": "code",
        "colab": {}
      },
      "source": [
        "women_users = users_df[users_df['gender'] == 'F']\n",
        "women_users_ids = women_users['user id'].tolist()\n",
        "women_df = data_df[data_df['user id'].isin(women_users_ids)].sort_values(by='user id')"
      ],
      "execution_count": null,
      "outputs": []
    },
    {
      "cell_type": "markdown",
      "metadata": {
        "id": "5P0iFBo3IVsc",
        "colab_type": "text"
      },
      "source": [
        "Top 3 rated movies by women"
      ]
    },
    {
      "cell_type": "code",
      "metadata": {
        "id": "ye7-6Hf7ILve",
        "colab_type": "code",
        "colab": {
          "base_uri": "https://localhost:8080/",
          "height": 273
        },
        "outputId": "f7e17691-0c33-48b5-8b7b-f0ca37e7ef55"
      },
      "source": [
        "avg_movie_rating_df_for_women = get_movies_avg_by_data(women_df)\n",
        "avg_movie_rating_df_for_women.iloc[:3,:].merge(items_df,on='movie id')"
      ],
      "execution_count": null,
      "outputs": [
        {
          "output_type": "execute_result",
          "data": {
            "text/html": [
              "<div>\n",
              "<style scoped>\n",
              "    .dataframe tbody tr th:only-of-type {\n",
              "        vertical-align: middle;\n",
              "    }\n",
              "\n",
              "    .dataframe tbody tr th {\n",
              "        vertical-align: top;\n",
              "    }\n",
              "\n",
              "    .dataframe thead th {\n",
              "        text-align: right;\n",
              "    }\n",
              "</style>\n",
              "<table border=\"1\" class=\"dataframe\">\n",
              "  <thead>\n",
              "    <tr style=\"text-align: right;\">\n",
              "      <th></th>\n",
              "      <th>movie id</th>\n",
              "      <th>avg rating</th>\n",
              "      <th>movie title_x</th>\n",
              "      <th>movie title_y</th>\n",
              "      <th>release date</th>\n",
              "      <th>video release date</th>\n",
              "      <th>IMDb URL</th>\n",
              "      <th>unknown</th>\n",
              "      <th>Action</th>\n",
              "      <th>Adventure</th>\n",
              "      <th>Animation</th>\n",
              "      <th>Children's</th>\n",
              "      <th>Comedy</th>\n",
              "      <th>Crime</th>\n",
              "      <th>Documentary</th>\n",
              "      <th>Drama</th>\n",
              "      <th>Fantasy</th>\n",
              "      <th>Film-Noir</th>\n",
              "      <th>Horror</th>\n",
              "      <th>Musical</th>\n",
              "      <th>Mystery</th>\n",
              "      <th>Romance</th>\n",
              "      <th>Sci-Fi</th>\n",
              "      <th>Thriller</th>\n",
              "      <th>War</th>\n",
              "      <th>Western</th>\n",
              "    </tr>\n",
              "  </thead>\n",
              "  <tbody>\n",
              "    <tr>\n",
              "      <th>0</th>\n",
              "      <td>1451</td>\n",
              "      <td>5.000000</td>\n",
              "      <td>Foreign Correspondent (1940)</td>\n",
              "      <td>Foreign Correspondent (1940)</td>\n",
              "      <td>01-Jan-1940</td>\n",
              "      <td>NaN</td>\n",
              "      <td>http://us.imdb.com/M/title-exact?Foreign%20Cor...</td>\n",
              "      <td>0</td>\n",
              "      <td>0</td>\n",
              "      <td>0</td>\n",
              "      <td>0</td>\n",
              "      <td>0</td>\n",
              "      <td>0</td>\n",
              "      <td>0</td>\n",
              "      <td>0</td>\n",
              "      <td>0</td>\n",
              "      <td>0</td>\n",
              "      <td>0</td>\n",
              "      <td>0</td>\n",
              "      <td>0</td>\n",
              "      <td>0</td>\n",
              "      <td>0</td>\n",
              "      <td>0</td>\n",
              "      <td>1</td>\n",
              "      <td>0</td>\n",
              "      <td>0</td>\n",
              "    </tr>\n",
              "    <tr>\n",
              "      <th>1</th>\n",
              "      <td>883</td>\n",
              "      <td>5.000000</td>\n",
              "      <td>Telling Lies in America (1997)</td>\n",
              "      <td>Telling Lies in America (1997)</td>\n",
              "      <td>01-Jan-1997</td>\n",
              "      <td>NaN</td>\n",
              "      <td>http://us.imdb.com/M/title-exact?Telling+Lies+...</td>\n",
              "      <td>0</td>\n",
              "      <td>0</td>\n",
              "      <td>0</td>\n",
              "      <td>0</td>\n",
              "      <td>0</td>\n",
              "      <td>0</td>\n",
              "      <td>0</td>\n",
              "      <td>0</td>\n",
              "      <td>1</td>\n",
              "      <td>0</td>\n",
              "      <td>0</td>\n",
              "      <td>0</td>\n",
              "      <td>0</td>\n",
              "      <td>0</td>\n",
              "      <td>0</td>\n",
              "      <td>0</td>\n",
              "      <td>0</td>\n",
              "      <td>0</td>\n",
              "      <td>0</td>\n",
              "    </tr>\n",
              "    <tr>\n",
              "      <th>2</th>\n",
              "      <td>318</td>\n",
              "      <td>4.632911</td>\n",
              "      <td>Schindler's List (1993)</td>\n",
              "      <td>Schindler's List (1993)</td>\n",
              "      <td>01-Jan-1993</td>\n",
              "      <td>NaN</td>\n",
              "      <td>http://us.imdb.com/M/title-exact?Schindler's%2...</td>\n",
              "      <td>0</td>\n",
              "      <td>0</td>\n",
              "      <td>0</td>\n",
              "      <td>0</td>\n",
              "      <td>0</td>\n",
              "      <td>0</td>\n",
              "      <td>0</td>\n",
              "      <td>0</td>\n",
              "      <td>1</td>\n",
              "      <td>0</td>\n",
              "      <td>0</td>\n",
              "      <td>0</td>\n",
              "      <td>0</td>\n",
              "      <td>0</td>\n",
              "      <td>0</td>\n",
              "      <td>0</td>\n",
              "      <td>0</td>\n",
              "      <td>1</td>\n",
              "      <td>0</td>\n",
              "    </tr>\n",
              "  </tbody>\n",
              "</table>\n",
              "</div>"
            ],
            "text/plain": [
              "   movie id  avg rating                   movie title_x  \\\n",
              "0      1451    5.000000    Foreign Correspondent (1940)   \n",
              "1       883    5.000000  Telling Lies in America (1997)   \n",
              "2       318    4.632911         Schindler's List (1993)   \n",
              "\n",
              "                    movie title_y release date  video release date  \\\n",
              "0    Foreign Correspondent (1940)  01-Jan-1940                 NaN   \n",
              "1  Telling Lies in America (1997)  01-Jan-1997                 NaN   \n",
              "2         Schindler's List (1993)  01-Jan-1993                 NaN   \n",
              "\n",
              "                                            IMDb URL  unknown  Action  \\\n",
              "0  http://us.imdb.com/M/title-exact?Foreign%20Cor...        0       0   \n",
              "1  http://us.imdb.com/M/title-exact?Telling+Lies+...        0       0   \n",
              "2  http://us.imdb.com/M/title-exact?Schindler's%2...        0       0   \n",
              "\n",
              "   Adventure  Animation  Children's  Comedy  Crime  Documentary  Drama  \\\n",
              "0          0          0           0       0      0            0      0   \n",
              "1          0          0           0       0      0            0      1   \n",
              "2          0          0           0       0      0            0      1   \n",
              "\n",
              "   Fantasy  Film-Noir  Horror  Musical  Mystery  Romance  Sci-Fi  Thriller  \\\n",
              "0        0          0       0        0        0        0       0         1   \n",
              "1        0          0       0        0        0        0       0         0   \n",
              "2        0          0       0        0        0        0       0         0   \n",
              "\n",
              "   War  Western  \n",
              "0    0        0  \n",
              "1    0        0  \n",
              "2    1        0  "
            ]
          },
          "metadata": {
            "tags": []
          },
          "execution_count": 25
        }
      ]
    },
    {
      "cell_type": "markdown",
      "metadata": {
        "id": "lW72086FH-4O",
        "colab_type": "text"
      },
      "source": [
        "distribution of avg rating by women"
      ]
    },
    {
      "cell_type": "code",
      "metadata": {
        "id": "AkTsaFI_Hs3B",
        "colab_type": "code",
        "colab": {
          "base_uri": "https://localhost:8080/",
          "height": 297
        },
        "outputId": "e8bbbd2d-e0a9-49db-d425-62e2ac084d27"
      },
      "source": [
        "print('distribution of avg rating')\n",
        "hist_for_avg(avg_movie_rating_df_for_women)"
      ],
      "execution_count": null,
      "outputs": [
        {
          "output_type": "stream",
          "text": [
            "distribution of avg rating\n"
          ],
          "name": "stdout"
        },
        {
          "output_type": "display_data",
          "data": {
            "image/png": "[encoded data removed]",
            "text/plain": [
              "<Figure size 432x288 with 1 Axes>"
            ]
          },
          "metadata": {
            "tags": [],
            "needs_background": "light"
          }
        }
      ]
    },
    {
      "cell_type": "markdown",
      "metadata": {
        "id": "OeLZHqIlr6Y-",
        "colab_type": "text"
      },
      "source": [
        "Top 3 movies with the most mean rating difference between men and women sectors "
      ]
    },
    {
      "cell_type": "code",
      "metadata": {
        "id": "In8bdbvosGGk",
        "colab_type": "code",
        "colab": {
          "base_uri": "https://localhost:8080/",
          "height": 273
        },
        "outputId": "c2dae7a8-f759-4610-a08a-875807a4726b"
      },
      "source": [
        "avg_movie_rating_df_for_women = avg_movie_rating_df_for_women.rename(columns={\"avg rating\": \"women avg rating\"})\n",
        "avg_movie_rating_df_for_men = avg_movie_rating_df_for_men.rename(columns={\"avg rating\": \"men avg rating\"})\n",
        "gender_avg_distance_df = avg_movie_rating_df_for_women.merge(avg_movie_rating_df_for_men[['movie id','men avg rating']],on='movie id')\n",
        "gender_avg_distance_df['avg difference'] = np.abs(gender_avg_distance_df['women avg rating'] - gender_avg_distance_df['men avg rating'])\n",
        "gender_avg_distance_df.head(3).merge(items_df,on='movie id').sort_values(by='avg difference',ascending=False)\n"
      ],
      "execution_count": null,
      "outputs": [
        {
          "output_type": "execute_result",
          "data": {
            "text/html": [
              "<div>\n",
              "<style scoped>\n",
              "    .dataframe tbody tr th:only-of-type {\n",
              "        vertical-align: middle;\n",
              "    }\n",
              "\n",
              "    .dataframe tbody tr th {\n",
              "        vertical-align: top;\n",
              "    }\n",
              "\n",
              "    .dataframe thead th {\n",
              "        text-align: right;\n",
              "    }\n",
              "</style>\n",
              "<table border=\"1\" class=\"dataframe\">\n",
              "  <thead>\n",
              "    <tr style=\"text-align: right;\">\n",
              "      <th></th>\n",
              "      <th>movie id</th>\n",
              "      <th>women avg rating</th>\n",
              "      <th>movie title_x</th>\n",
              "      <th>men avg rating</th>\n",
              "      <th>avg difference</th>\n",
              "      <th>movie title_y</th>\n",
              "      <th>release date</th>\n",
              "      <th>video release date</th>\n",
              "      <th>IMDb URL</th>\n",
              "      <th>unknown</th>\n",
              "      <th>Action</th>\n",
              "      <th>Adventure</th>\n",
              "      <th>Animation</th>\n",
              "      <th>Children's</th>\n",
              "      <th>Comedy</th>\n",
              "      <th>Crime</th>\n",
              "      <th>Documentary</th>\n",
              "      <th>Drama</th>\n",
              "      <th>Fantasy</th>\n",
              "      <th>Film-Noir</th>\n",
              "      <th>Horror</th>\n",
              "      <th>Musical</th>\n",
              "      <th>Mystery</th>\n",
              "      <th>Romance</th>\n",
              "      <th>Sci-Fi</th>\n",
              "      <th>Thriller</th>\n",
              "      <th>War</th>\n",
              "      <th>Western</th>\n",
              "    </tr>\n",
              "  </thead>\n",
              "  <tbody>\n",
              "    <tr>\n",
              "      <th>1</th>\n",
              "      <td>883</td>\n",
              "      <td>5.000000</td>\n",
              "      <td>Telling Lies in America (1997)</td>\n",
              "      <td>3.083333</td>\n",
              "      <td>1.916667</td>\n",
              "      <td>Telling Lies in America (1997)</td>\n",
              "      <td>01-Jan-1997</td>\n",
              "      <td>NaN</td>\n",
              "      <td>http://us.imdb.com/M/title-exact?Telling+Lies+...</td>\n",
              "      <td>0</td>\n",
              "      <td>0</td>\n",
              "      <td>0</td>\n",
              "      <td>0</td>\n",
              "      <td>0</td>\n",
              "      <td>0</td>\n",
              "      <td>0</td>\n",
              "      <td>0</td>\n",
              "      <td>1</td>\n",
              "      <td>0</td>\n",
              "      <td>0</td>\n",
              "      <td>0</td>\n",
              "      <td>0</td>\n",
              "      <td>0</td>\n",
              "      <td>0</td>\n",
              "      <td>0</td>\n",
              "      <td>0</td>\n",
              "      <td>0</td>\n",
              "      <td>0</td>\n",
              "    </tr>\n",
              "    <tr>\n",
              "      <th>0</th>\n",
              "      <td>1451</td>\n",
              "      <td>5.000000</td>\n",
              "      <td>Foreign Correspondent (1940)</td>\n",
              "      <td>3.785714</td>\n",
              "      <td>1.214286</td>\n",
              "      <td>Foreign Correspondent (1940)</td>\n",
              "      <td>01-Jan-1940</td>\n",
              "      <td>NaN</td>\n",
              "      <td>http://us.imdb.com/M/title-exact?Foreign%20Cor...</td>\n",
              "      <td>0</td>\n",
              "      <td>0</td>\n",
              "      <td>0</td>\n",
              "      <td>0</td>\n",
              "      <td>0</td>\n",
              "      <td>0</td>\n",
              "      <td>0</td>\n",
              "      <td>0</td>\n",
              "      <td>0</td>\n",
              "      <td>0</td>\n",
              "      <td>0</td>\n",
              "      <td>0</td>\n",
              "      <td>0</td>\n",
              "      <td>0</td>\n",
              "      <td>0</td>\n",
              "      <td>0</td>\n",
              "      <td>1</td>\n",
              "      <td>0</td>\n",
              "      <td>0</td>\n",
              "    </tr>\n",
              "    <tr>\n",
              "      <th>2</th>\n",
              "      <td>318</td>\n",
              "      <td>4.632911</td>\n",
              "      <td>Schindler's List (1993)</td>\n",
              "      <td>4.406393</td>\n",
              "      <td>0.226519</td>\n",
              "      <td>Schindler's List (1993)</td>\n",
              "      <td>01-Jan-1993</td>\n",
              "      <td>NaN</td>\n",
              "      <td>http://us.imdb.com/M/title-exact?Schindler's%2...</td>\n",
              "      <td>0</td>\n",
              "      <td>0</td>\n",
              "      <td>0</td>\n",
              "      <td>0</td>\n",
              "      <td>0</td>\n",
              "      <td>0</td>\n",
              "      <td>0</td>\n",
              "      <td>0</td>\n",
              "      <td>1</td>\n",
              "      <td>0</td>\n",
              "      <td>0</td>\n",
              "      <td>0</td>\n",
              "      <td>0</td>\n",
              "      <td>0</td>\n",
              "      <td>0</td>\n",
              "      <td>0</td>\n",
              "      <td>0</td>\n",
              "      <td>1</td>\n",
              "      <td>0</td>\n",
              "    </tr>\n",
              "  </tbody>\n",
              "</table>\n",
              "</div>"
            ],
            "text/plain": [
              "   movie id  women avg rating                   movie title_x  men avg rating  \\\n",
              "1       883          5.000000  Telling Lies in America (1997)        3.083333   \n",
              "0      1451          5.000000    Foreign Correspondent (1940)        3.785714   \n",
              "2       318          4.632911         Schindler's List (1993)        4.406393   \n",
              "\n",
              "   avg difference                   movie title_y release date  \\\n",
              "1        1.916667  Telling Lies in America (1997)  01-Jan-1997   \n",
              "0        1.214286    Foreign Correspondent (1940)  01-Jan-1940   \n",
              "2        0.226519         Schindler's List (1993)  01-Jan-1993   \n",
              "\n",
              "   video release date                                           IMDb URL  \\\n",
              "1                 NaN  http://us.imdb.com/M/title-exact?Telling+Lies+...   \n",
              "0                 NaN  http://us.imdb.com/M/title-exact?Foreign%20Cor...   \n",
              "2                 NaN  http://us.imdb.com/M/title-exact?Schindler's%2...   \n",
              "\n",
              "   unknown  Action  Adventure  Animation  Children's  Comedy  Crime  \\\n",
              "1        0       0          0          0           0       0      0   \n",
              "0        0       0          0          0           0       0      0   \n",
              "2        0       0          0          0           0       0      0   \n",
              "\n",
              "   Documentary  Drama  Fantasy  Film-Noir  Horror  Musical  Mystery  Romance  \\\n",
              "1            0      1        0          0       0        0        0        0   \n",
              "0            0      0        0          0       0        0        0        0   \n",
              "2            0      1        0          0       0        0        0        0   \n",
              "\n",
              "   Sci-Fi  Thriller  War  Western  \n",
              "1       0         0    0        0  \n",
              "0       0         1    0        0  \n",
              "2       0         0    1        0  "
            ]
          },
          "metadata": {
            "tags": []
          },
          "execution_count": 27
        }
      ]
    },
    {
      "cell_type": "markdown",
      "metadata": {
        "id": "8qPLVRT4srEB",
        "colab_type": "text"
      },
      "source": [
        "***Task 1C***"
      ]
    },
    {
      "cell_type": "markdown",
      "metadata": {
        "id": "DlxvpWwBs18S",
        "colab_type": "text"
      },
      "source": [
        "Now lets write function that generates histogram to any demographic df\n",
        "\n",
        "Getting the top and the worst rated movies are done by taking the top 10 percents of the top and worst movies of the most rated movies (rated by more than 0.05 percents of the sector)"
      ]
    },
    {
      "cell_type": "code",
      "metadata": {
        "id": "nchouM0H4d0H",
        "colab_type": "code",
        "colab": {}
      },
      "source": [
        "import numpy as np\n",
        "\n",
        "def genre_histogram_by_demography(demography_df,demography_name='specific set of users'):\n",
        "  movies_and_users_info = demography_df.merge(items_df,on='movie id',how='inner')\n",
        "  most_rated_movies = movies_and_users_info[movies_and_users_info['movie id'].map(movies_and_users_info['movie id'].value_counts()) > 0.0005 * len(movies_and_users_info)]\n",
        "  # look at each movie data and get the top rated movies and worse ones.\n",
        "  rating_sorted_descending = most_rated_movies.groupby(['movie id'])['rating'].mean().reset_index(name='rating').sort_values(by='rating',ascending=False)\n",
        "  top_rated_movies = np.split(rating_sorted_descending,[int(0.1*len(rating_sorted_descending))])\n",
        "  best_movies = top_rated_movies[0]\n",
        "\n",
        "  rating_sorted_ascending = rating_sorted_descending.sort_values(by='rating',ascending=True)\n",
        "  least_rated_movies = np.split(rating_sorted_ascending,[int(0.1*len(rating_sorted_ascending))])\n",
        "  worst_movies = least_rated_movies[0]\n",
        "\n",
        "  # get the genres for each movie\n",
        "  worst_movies_info = worst_movies.join(items_df.set_index('movie id'))\n",
        "  best_movies_info = best_movies.join(items_df.set_index('movie id'))\n",
        "\n",
        "\n",
        "  genres = items_df.columns[5:]\n",
        "  cols = ['how many rated one of the movies of specific genre higher','how many rated one of the movies of specific genre lower']\n",
        "  genres_preferations_by_count = pd.DataFrame(columns=cols)\n",
        "\n",
        "  for genre in genres:\n",
        "    beloved_genre_movies_count = len(best_movies_info[best_movies_info[genre]==1])\n",
        "    unliked_genre_movies_count = len(worst_movies_info[worst_movies_info[genre]==1])\n",
        "    genre_preferation_record = pd.DataFrame(data={cols[0]:beloved_genre_movies_count,cols[1]:unliked_genre_movies_count},index=[genre])\n",
        "    genres_preferations_by_count = pd.concat([genres_preferations_by_count,genre_preferation_record])\n",
        "\n",
        "\n",
        "  plot_title = 'genre preferations of sector : {}'.format(demography_name)\n",
        "  plot = genres_preferations_by_count.plot(kind='bar', title=plot_title,figsize=(18,9),color=['green','red'])\n",
        "  plot.set_ylabel(\"count\")"
      ],
      "execution_count": null,
      "outputs": []
    },
    {
      "cell_type": "markdown",
      "metadata": {
        "id": "V7Uo699ICCzC",
        "colab_type": "text"
      },
      "source": [
        "Apply the above function for different sectors"
      ]
    },
    {
      "cell_type": "code",
      "metadata": {
        "id": "TJ3-gxwYZ9gn",
        "colab_type": "code",
        "colab": {
          "base_uri": "https://localhost:8080/",
          "height": 611
        },
        "outputId": "f302764e-ba4b-464b-c067-457116a443f3"
      },
      "source": [
        "genre_histogram_by_demography(data_df,\"whole users\")"
      ],
      "execution_count": null,
      "outputs": [
        {
          "output_type": "display_data",
          "data": {
            "image/png": "[encoded data removed]",
            "text/plain": [
              "<Figure size 1296x648 with 1 Axes>"
            ]
          },
          "metadata": {
            "tags": [],
            "needs_background": "light"
          }
        }
      ]
    },
    {
      "cell_type": "code",
      "metadata": {
        "id": "FRJqBHcAF-1s",
        "colab_type": "code",
        "colab": {
          "base_uri": "https://localhost:8080/",
          "height": 611
        },
        "outputId": "6c56fb26-c847-4d8d-a1f8-a84fcd1123e9"
      },
      "source": [
        "genre_histogram_by_demography(men_df,\"men\")"
      ],
      "execution_count": null,
      "outputs": [
        {
          "output_type": "display_data",
          "data": {
            "image/png": "[encoded data removed]",
            "text/plain": [
              "<Figure size 1296x648 with 1 Axes>"
            ]
          },
          "metadata": {
            "tags": [],
            "needs_background": "light"
          }
        }
      ]
    },
    {
      "cell_type": "code",
      "metadata": {
        "id": "k9YFQrlLCNqO",
        "colab_type": "code",
        "colab": {
          "base_uri": "https://localhost:8080/",
          "height": 611
        },
        "outputId": "7f841288-bf53-4eb3-e0a9-d32ce7335225"
      },
      "source": [
        "genre_histogram_by_demography(women_df,\"women\")"
      ],
      "execution_count": null,
      "outputs": [
        {
          "output_type": "display_data",
          "data": {
            "image/png": "[encoded data removed]",
            "text/plain": [
              "<Figure size 1296x648 with 1 Axes>"
            ]
          },
          "metadata": {
            "tags": [],
            "needs_background": "light"
          }
        }
      ]
    },
    {
      "cell_type": "markdown",
      "metadata": {
        "id": "UrITEwRLd6Bd",
        "colab_type": "text"
      },
      "source": [
        "Let's explore other sectors"
      ]
    },
    {
      "cell_type": "code",
      "metadata": {
        "id": "N4RVTQv6NBsE",
        "colab_type": "code",
        "colab": {
          "base_uri": "https://localhost:8080/",
          "height": 611
        },
        "outputId": "30ac4c47-6122-4cb0-90de-bcc57097362f"
      },
      "source": [
        "students_users = users_df[users_df['occupation'] == 'student']\n",
        "students_users_ids = students_users['user id'].tolist()\n",
        "student_df = data_df[data_df['user id'].isin(students_users_ids)].sort_values(by='user id')\n",
        "genre_histogram_by_demography(student_df,\"students\")"
      ],
      "execution_count": null,
      "outputs": [
        {
          "output_type": "display_data",
          "data": {
            "image/png": "[encoded data removed]",
            "text/plain": [
              "<Figure size 1296x648 with 1 Axes>"
            ]
          },
          "metadata": {
            "tags": [],
            "needs_background": "light"
          }
        }
      ]
    },
    {
      "cell_type": "code",
      "metadata": {
        "id": "-lqZ3R8EPhpj",
        "colab_type": "code",
        "colab": {
          "base_uri": "https://localhost:8080/",
          "height": 611
        },
        "outputId": "55ef1418-2c87-4f0f-e86a-3161752e9ece"
      },
      "source": [
        "programmers_users = users_df[users_df['occupation'] == 'programmer']\n",
        "programmers_users_ids = programmers_users['user id'].tolist()\n",
        "programmers_df = data_df[data_df['user id'].isin(programmers_users_ids)].sort_values(by='user id')\n",
        "genre_histogram_by_demography(programmers_df,\"programmers\")"
      ],
      "execution_count": null,
      "outputs": [
        {
          "output_type": "display_data",
          "data": {
            "image/png": "[encoded data removed]",
            "text/plain": [
              "<Figure size 1296x648 with 1 Axes>"
            ]
          },
          "metadata": {
            "tags": [],
            "needs_background": "light"
          }
        }
      ]
    },
    {
      "cell_type": "markdown",
      "metadata": {
        "id": "5U0Qc-zm9t6o",
        "colab_type": "text"
      },
      "source": [
        "The diffrence between the populations is:\n",
        "* The student sector are ambivallent to differnet genres, while other sectors  have a clear opinion of some genres.\n",
        "* Both men and women like to watch children's movies.\n",
        "* Only women like to watch drama movies.\n",
        "\n",
        "Things that different populations have in common:\n",
        "* Most of the human from different sectors don't like to watch thriller movies, but they like to watch sci-fi movies.\n"
      ]
    },
    {
      "cell_type": "markdown",
      "metadata": {
        "colab_type": "text",
        "id": "wEep9SX7-s2g"
      },
      "source": [
        "**TASK 1D**"
      ]
    },
    {
      "cell_type": "markdown",
      "metadata": {
        "id": "_ll-qI-Pffp_",
        "colab_type": "text"
      },
      "source": [
        "We will take the top 10% rated movies, we will sort them and take the ones who got the highest average rating"
      ]
    },
    {
      "cell_type": "code",
      "metadata": {
        "id": "lgigV4V-_LcK",
        "colab_type": "code",
        "colab": {
          "base_uri": "https://localhost:8080/",
          "height": 83
        },
        "outputId": "d2d6cd07-ba48-4dad-ad98-82cdbf18fb6d"
      },
      "source": [
        "movie_rating_count = data_df.groupby('movie id').size().reset_index(name='counts').sort_values(by='counts',ascending=False)\n",
        "top_rated = movie_rating_count.head(int(len(movie_rating_count)/10))\n",
        "top_rated_with_avg = top_rated.merge(avg_movie_rating_df,on='movie id',how='inner').sort_values(by='avg rating',ascending=False)\n",
        "print(top_rated_movies)"
      ],
      "execution_count": null,
      "outputs": [
        {
          "output_type": "stream",
          "text": [
            "   movie id  avg rating                 movie title\n",
            "0       408    4.491071       Close Shave, A (1995)\n",
            "1       318    4.466443     Schindler's List (1993)\n",
            "2       169    4.466102  Wrong Trousers, The (1993)\n"
          ],
          "name": "stdout"
        }
      ]
    },
    {
      "cell_type": "code",
      "metadata": {
        "id": "oTOTFY7VLuyr",
        "colab_type": "code",
        "colab": {
          "base_uri": "https://localhost:8080/",
          "height": 50
        },
        "outputId": "e7ea5405-d2f3-4751-b156-095fcadd1b82"
      },
      "source": [
        "train_set_before_filter = generate_df_from_file('u1.base',['user id','movie id','rating','timestamp'],split_by='\\t')\n",
        "train_set =  filter_data(train_set_before_filter)\n",
        "test_set = generate_df_from_file('u1.test',['user id','movie id','rating','timestamp'],split_by='\\t')"
      ],
      "execution_count": null,
      "outputs": [
        {
          "output_type": "stream",
          "text": [
            "df is created for file u1.base\n",
            "df is created for file u1.test\n"
          ],
          "name": "stdout"
        }
      ]
    },
    {
      "cell_type": "markdown",
      "metadata": {
        "id": "sUGKMiq7Hzwm",
        "colab_type": "text"
      },
      "source": [
        "**TASK 2A - recommendation model base on 1A**"
      ]
    },
    {
      "cell_type": "markdown",
      "metadata": {
        "id": "h8h6GzykIB8Y",
        "colab_type": "text"
      },
      "source": [
        "MAE:"
      ]
    },
    {
      "cell_type": "code",
      "metadata": {
        "id": "BCH9H2RWv-94",
        "colab_type": "code",
        "colab": {}
      },
      "source": [
        "def predict_movie_rating_by_sector(sector_df):\n",
        "  sector_test_df = test_set[test_set['user id'].isin(sector_df['user id'].tolist())]\n",
        "  sector_train_df = train_set[train_set['user id'].isin(sector_df['user id'].tolist())]\n",
        "  avg_rating_for_train_movies = get_movies_avg_by_data(sector_train_df)\n",
        "  predicted_reduced_test_set = sector_test_df.merge(avg_rating_for_train_movies,on='movie id').rename(columns={\"avg rating\": \"predicted rating\"})\n",
        "  mae = metrics.mean_absolute_error(predicted_reduced_test_set['rating'],predicted_reduced_test_set['predicted rating'])\n",
        "  return \"mae = {}\".format(mae)\n"
      ],
      "execution_count": null,
      "outputs": []
    },
    {
      "cell_type": "markdown",
      "metadata": {
        "id": "Nr-FrZY6EaQp",
        "colab_type": "text"
      },
      "source": [
        "Apply this function in order to predict ratings"
      ]
    },
    {
      "cell_type": "code",
      "metadata": {
        "id": "V4hmZcxqEidT",
        "colab_type": "code",
        "colab": {
          "base_uri": "https://localhost:8080/",
          "height": 33
        },
        "outputId": "cdfcce29-7633-456b-cd92-e860b00d0d88"
      },
      "source": [
        "predict_movie_rating_by_sector(data_df)"
      ],
      "execution_count": null,
      "outputs": [
        {
          "output_type": "execute_result",
          "data": {
            "text/plain": [
              "'mae = 0.8188134573939645'"
            ]
          },
          "metadata": {
            "tags": []
          },
          "execution_count": 37
        }
      ]
    },
    {
      "cell_type": "markdown",
      "metadata": {
        "id": "HMscrNmdvzqZ",
        "colab_type": "text"
      },
      "source": [
        "**TASK 2B**"
      ]
    },
    {
      "cell_type": "markdown",
      "metadata": {
        "id": "-QE-1WSGiSDA",
        "colab_type": "text"
      },
      "source": [
        "Calculate recommenations and precision and recall for each method"
      ]
    },
    {
      "cell_type": "code",
      "metadata": {
        "id": "Xm7vbQddg9RW",
        "colab_type": "code",
        "colab": {}
      },
      "source": [
        "def recomend(sector_df ,should_random=False):\n",
        "  users_ids = sector_df['user id'].unique()\n",
        "  avg_rating_for_train_movies = get_movies_avg_by_data(sector_df)\n",
        "  recommendations = dict()\n",
        "  for user_id in users_ids:\n",
        "    seen_movies = train_set[train_set['user id'] == user_id]['movie id'].tolist()\n",
        "    not_seen_movies_with_avgs = train_set[~train_set['user id'].isin(seen_movies)].merge(avg_rating_for_train_movies,on='movie id')\n",
        "    if should_random:\n",
        "      recommendations_for_user = not_seen_movies_with_avgs.sample(n=20).set_index('movie id').index\n",
        "    else:\n",
        "      recommendations_for_user = not_seen_movies_with_avgs.sort_values(by='avg rating').head(20).set_index('movie id').index\n",
        "    recommendations[user_id] = recommendations_for_user\n",
        "  return pd.DataFrame(recommendations)\n",
        "\n",
        "\n",
        "randomized_recommendations = recomend(data_df,should_random=True)\n",
        "precision_recommendations = recomend(data_df)\n"
      ],
      "execution_count": null,
      "outputs": []
    },
    {
      "cell_type": "code",
      "metadata": {
        "id": "cinWUNADsYGy",
        "colab_type": "code",
        "colab": {}
      },
      "source": [
        "def calculate_precision_and_recall(sector_df , recommendations_df):\n",
        "  relevant = 0\n",
        "  selected = 0\n",
        "  relevant_and_selected = 0\n",
        "  users_ids = []\n",
        "  for user_id in recommendations_df.columns:\n",
        "    if user_id in sector_df['user id'].tolist():\n",
        "      users_ids.append(user_id)\n",
        "  for user_id in users_ids:\n",
        "    movies_seen_test = test_set[test_set['user id'] == user_id]['movie id']\n",
        "    # print(movies_seen_test)\n",
        "    relevant += len(movies_seen_test)\n",
        "    selected += len(recommendations_df.loc[:,user_id])\n",
        "\n",
        "    # for each selected item\n",
        "    # print(recommendations_df.loc[:,user_id])\n",
        "    for movie_id in recommendations_df.loc[:,user_id]:\n",
        "      # if relevent\n",
        "      if movie_id in movies_seen_test:\n",
        "         relevant_and_selected +=1\n",
        "\n",
        "      \n",
        "  precision = relevant_and_selected/selected\n",
        "  recall = relevant_and_selected/relevant\n",
        "  return precision,recall"
      ],
      "execution_count": null,
      "outputs": []
    },
    {
      "cell_type": "code",
      "metadata": {
        "id": "_T7TPEJrGXsz",
        "colab_type": "code",
        "colab": {
          "base_uri": "https://localhost:8080/",
          "height": 50
        },
        "outputId": "add7a913-a488-4474-ec34-40e0ba22acf3"
      },
      "source": [
        "randomized_matrics= calculate_precision_and_recall(data_df,randomized_recommendations)\n",
        "print('Randomized recommendation results: precision  = {}, recall = {}'.format(randomized_matrics[0],randomized_matrics[1]))\n",
        "precision_matrics = calculate_precision_and_recall(data_df,precision_recommendations)\n",
        "print('Precision recommendation results: precision  = {}, recall = {}'.format(precision_matrics[0],precision_matrics[1]))"
      ],
      "execution_count": null,
      "outputs": [
        {
          "output_type": "stream",
          "text": [
            "Randomized recommendation results: precision  = 0.0012725344644750796, recall = 0.0012\n",
            "Precision recommendation results: precision  = 0.0011664899257688229, recall = 0.0011\n"
          ],
          "name": "stdout"
        }
      ]
    },
    {
      "cell_type": "markdown",
      "metadata": {
        "id": "diIl6uVLLos-",
        "colab_type": "text"
      },
      "source": [
        "We got better results in the prediction based avg rating."
      ]
    },
    {
      "cell_type": "markdown",
      "metadata": {
        "id": "k6EvrY7FDsCF",
        "colab_type": "text"
      },
      "source": [
        "**TASK** 2C"
      ]
    },
    {
      "cell_type": "markdown",
      "metadata": {
        "id": "DN--exxpSfP5",
        "colab_type": "text"
      },
      "source": [
        "Apply the functions above for men sector"
      ]
    },
    {
      "cell_type": "markdown",
      "metadata": {
        "id": "TWa9TzVQXnir",
        "colab_type": "text"
      },
      "source": [
        "Task 2a for men sector"
      ]
    },
    {
      "cell_type": "code",
      "metadata": {
        "id": "7lQxYlIML1s8",
        "colab_type": "code",
        "colab": {
          "base_uri": "https://localhost:8080/",
          "height": 33
        },
        "outputId": "1ec2c40d-f2d6-45d6-dbc0-c9a424cd02ee"
      },
      "source": [
        "predict_movie_rating_by_sector(men_df)"
      ],
      "execution_count": null,
      "outputs": [
        {
          "output_type": "execute_result",
          "data": {
            "text/plain": [
              "'mae = 0.7969599783506004'"
            ]
          },
          "metadata": {
            "tags": []
          },
          "execution_count": 43
        }
      ]
    },
    {
      "cell_type": "markdown",
      "metadata": {
        "id": "1FhuVf2MLx9I",
        "colab_type": "text"
      },
      "source": [
        "Task 2b for men sector"
      ]
    },
    {
      "cell_type": "code",
      "metadata": {
        "id": "14P10X7GL2nE",
        "colab_type": "code",
        "colab": {
          "base_uri": "https://localhost:8080/",
          "height": 50
        },
        "outputId": "9e11212b-0200-46ee-eb37-d3d7290cf1f4"
      },
      "source": [
        "men_rand_recom = recomend(men_df ,should_random=True)\n",
        "print('men rand matric : {}'.format(calculate_precision_and_recall(men_df,men_rand_recom)))\n",
        "men_prec_recom = recomend(men_df)\n",
        "print('men prec matric : {}'.format(calculate_precision_and_recall(men_df,men_prec_recom)))"
      ],
      "execution_count": null,
      "outputs": [
        {
          "output_type": "stream",
          "text": [
            "men rand matric : (0.0009701492537313432, 0.0008571240192523241)\n",
            "men prec matric : (0.0019402985074626865, 0.0017142480385046483)\n"
          ],
          "name": "stdout"
        }
      ]
    },
    {
      "cell_type": "markdown",
      "metadata": {
        "id": "OrVjTvz-eTev",
        "colab_type": "text"
      },
      "source": [
        "We got better results when exploring whole population. It happaned because we have more information about the bigger population."
      ]
    },
    {
      "cell_type": "markdown",
      "metadata": {
        "id": "hGJemAyMbCYq",
        "colab_type": "text"
      },
      "source": [
        "Let's install turicreate for task 3"
      ]
    },
    {
      "cell_type": "code",
      "metadata": {
        "id": "L5ewR4BVT9DN",
        "colab_type": "code",
        "colab": {
          "base_uri": "https://localhost:8080/",
          "height": 1000
        },
        "outputId": "3df17a03-196d-44e4-91b1-94c2340ccdd1"
      },
      "source": [
        "!pip install turicreate"
      ],
      "execution_count": null,
      "outputs": [
        {
          "output_type": "stream",
          "text": [
            "Collecting turicreate\n",
            "\u001b[?25l  Downloading https://files.pythonhosted.org/packages/ee/3c/11f0818f117bc80bab78b5b04d492316f949d005bb1c6b3e05f31182b20e/turicreate-6.2.2-cp36-cp36m-manylinux1_x86_64.whl (91.8MB)\n",
            "\u001b[K     |████████████████████████████████| 91.8MB 40kB/s \n",
            "\u001b[?25hCollecting coremltools==3.3\n",
            "\u001b[?25l  Downloading https://files.pythonhosted.org/packages/77/19/611916d1ef326d38857d93af5ba184f6ad7491642e0fa4f9082e7d82f034/coremltools-3.3-cp36-none-manylinux1_x86_64.whl (3.4MB)\n",
            "\u001b[K     |████████████████████████████████| 3.4MB 56.6MB/s \n",
            "\u001b[?25hRequirement already satisfied: numpy in /usr/local/lib/python3.6/dist-packages (from turicreate) (1.18.4)\n",
            "Collecting resampy==0.2.1\n",
            "\u001b[?25l  Downloading https://files.pythonhosted.org/packages/14/b6/66a06d85474190b50aee1a6c09cdc95bb405ac47338b27e9b21409da1760/resampy-0.2.1.tar.gz (322kB)\n",
            "\u001b[K     |████████████████████████████████| 327kB 61.1MB/s \n",
            "\u001b[?25hCollecting tensorflow<=2.0.1,>=2.0.0\n",
            "\u001b[?25l  Downloading https://files.pythonhosted.org/packages/43/16/b07e3f7a4a024b47918f7018967eb984b0c542458a6141d8c48515aa81d4/tensorflow-2.0.1-cp36-cp36m-manylinux2010_x86_64.whl (86.3MB)\n",
            "\u001b[K     |████████████████████████████████| 86.3MB 40kB/s \n",
            "\u001b[?25hRequirement already satisfied: prettytable==0.7.2 in /usr/local/lib/python3.6/dist-packages (from turicreate) (0.7.2)\n",
            "Requirement already satisfied: decorator>=4.0.9 in /usr/local/lib/python3.6/dist-packages (from turicreate) (4.4.2)\n",
            "Requirement already satisfied: scipy>=1.1.0 in /usr/local/lib/python3.6/dist-packages (from turicreate) (1.4.1)\n",
            "Requirement already satisfied: pillow>=5.2.0 in /usr/local/lib/python3.6/dist-packages (from turicreate) (7.0.0)\n",
            "Requirement already satisfied: requests>=2.9.1 in /usr/local/lib/python3.6/dist-packages (from turicreate) (2.23.0)\n",
            "Requirement already satisfied: six>=1.10.0 in /usr/local/lib/python3.6/dist-packages (from turicreate) (1.12.0)\n",
            "Requirement already satisfied: pandas>=0.23.2 in /usr/local/lib/python3.6/dist-packages (from turicreate) (1.0.3)\n",
            "Requirement already satisfied: protobuf>=3.1.0 in /usr/local/lib/python3.6/dist-packages (from coremltools==3.3->turicreate) (3.10.0)\n",
            "Requirement already satisfied: numba>=0.32 in /usr/local/lib/python3.6/dist-packages (from resampy==0.2.1->turicreate) (0.48.0)\n",
            "Collecting gast==0.2.2\n",
            "  Downloading https://files.pythonhosted.org/packages/4e/35/11749bf99b2d4e3cceb4d55ca22590b0d7c2c62b9de38ac4a4a7f4687421/gast-0.2.2.tar.gz\n",
            "Requirement already satisfied: keras-applications>=1.0.8 in /usr/local/lib/python3.6/dist-packages (from tensorflow<=2.0.1,>=2.0.0->turicreate) (1.0.8)\n",
            "Requirement already satisfied: absl-py>=0.7.0 in /usr/local/lib/python3.6/dist-packages (from tensorflow<=2.0.1,>=2.0.0->turicreate) (0.9.0)\n",
            "Collecting tensorflow-estimator<2.1.0,>=2.0.0\n",
            "\u001b[?25l  Downloading https://files.pythonhosted.org/packages/fc/08/8b927337b7019c374719145d1dceba21a8bb909b93b1ad6f8fb7d22c1ca1/tensorflow_estimator-2.0.1-py2.py3-none-any.whl (449kB)\n",
            "\u001b[K     |████████████████████████████████| 450kB 55.0MB/s \n",
            "\u001b[?25hRequirement already satisfied: termcolor>=1.1.0 in /usr/local/lib/python3.6/dist-packages (from tensorflow<=2.0.1,>=2.0.0->turicreate) (1.1.0)\n",
            "Requirement already satisfied: wrapt>=1.11.1 in /usr/local/lib/python3.6/dist-packages (from tensorflow<=2.0.1,>=2.0.0->turicreate) (1.12.1)\n",
            "Collecting tensorboard<2.1.0,>=2.0.0\n",
            "\u001b[?25l  Downloading https://files.pythonhosted.org/packages/76/54/99b9d5d52d5cb732f099baaaf7740403e83fe6b0cedde940fabd2b13d75a/tensorboard-2.0.2-py3-none-any.whl (3.8MB)\n",
            "\u001b[K     |████████████████████████████████| 3.8MB 58.1MB/s \n",
            "\u001b[?25hRequirement already satisfied: opt-einsum>=2.3.2 in /usr/local/lib/python3.6/dist-packages (from tensorflow<=2.0.1,>=2.0.0->turicreate) (3.2.1)\n",
            "Requirement already satisfied: wheel>=0.26; python_version >= \"3\" in /usr/local/lib/python3.6/dist-packages (from tensorflow<=2.0.1,>=2.0.0->turicreate) (0.34.2)\n",
            "Requirement already satisfied: keras-preprocessing>=1.0.5 in /usr/local/lib/python3.6/dist-packages (from tensorflow<=2.0.1,>=2.0.0->turicreate) (1.1.0)\n",
            "Requirement already satisfied: grpcio>=1.8.6 in /usr/local/lib/python3.6/dist-packages (from tensorflow<=2.0.1,>=2.0.0->turicreate) (1.28.1)\n",
            "Requirement already satisfied: google-pasta>=0.1.6 in /usr/local/lib/python3.6/dist-packages (from tensorflow<=2.0.1,>=2.0.0->turicreate) (0.2.0)\n",
            "Requirement already satisfied: astor>=0.6.0 in /usr/local/lib/python3.6/dist-packages (from tensorflow<=2.0.1,>=2.0.0->turicreate) (0.8.1)\n",
            "Requirement already satisfied: chardet<4,>=3.0.2 in /usr/local/lib/python3.6/dist-packages (from requests>=2.9.1->turicreate) (3.0.4)\n",
            "Requirement already satisfied: urllib3!=1.25.0,!=1.25.1,<1.26,>=1.21.1 in /usr/local/lib/python3.6/dist-packages (from requests>=2.9.1->turicreate) (1.24.3)\n",
            "Requirement already satisfied: idna<3,>=2.5 in /usr/local/lib/python3.6/dist-packages (from requests>=2.9.1->turicreate) (2.9)\n",
            "Requirement already satisfied: certifi>=2017.4.17 in /usr/local/lib/python3.6/dist-packages (from requests>=2.9.1->turicreate) (2020.4.5.1)\n",
            "Requirement already satisfied: python-dateutil>=2.6.1 in /usr/local/lib/python3.6/dist-packages (from pandas>=0.23.2->turicreate) (2.8.1)\n",
            "Requirement already satisfied: pytz>=2017.2 in /usr/local/lib/python3.6/dist-packages (from pandas>=0.23.2->turicreate) (2018.9)\n",
            "Requirement already satisfied: setuptools in /usr/local/lib/python3.6/dist-packages (from protobuf>=3.1.0->coremltools==3.3->turicreate) (46.3.0)\n",
            "Requirement already satisfied: llvmlite<0.32.0,>=0.31.0dev0 in /usr/local/lib/python3.6/dist-packages (from numba>=0.32->resampy==0.2.1->turicreate) (0.31.0)\n",
            "Requirement already satisfied: h5py in /usr/local/lib/python3.6/dist-packages (from keras-applications>=1.0.8->tensorflow<=2.0.1,>=2.0.0->turicreate) (2.10.0)\n",
            "Requirement already satisfied: markdown>=2.6.8 in /usr/local/lib/python3.6/dist-packages (from tensorboard<2.1.0,>=2.0.0->tensorflow<=2.0.1,>=2.0.0->turicreate) (3.2.1)\n",
            "Requirement already satisfied: google-auth-oauthlib<0.5,>=0.4.1 in /usr/local/lib/python3.6/dist-packages (from tensorboard<2.1.0,>=2.0.0->tensorflow<=2.0.1,>=2.0.0->turicreate) (0.4.1)\n",
            "Requirement already satisfied: werkzeug>=0.11.15 in /usr/local/lib/python3.6/dist-packages (from tensorboard<2.1.0,>=2.0.0->tensorflow<=2.0.1,>=2.0.0->turicreate) (1.0.1)\n",
            "Requirement already satisfied: google-auth<2,>=1.6.3 in /usr/local/lib/python3.6/dist-packages (from tensorboard<2.1.0,>=2.0.0->tensorflow<=2.0.1,>=2.0.0->turicreate) (1.7.2)\n",
            "Requirement already satisfied: requests-oauthlib>=0.7.0 in /usr/local/lib/python3.6/dist-packages (from google-auth-oauthlib<0.5,>=0.4.1->tensorboard<2.1.0,>=2.0.0->tensorflow<=2.0.1,>=2.0.0->turicreate) (1.3.0)\n",
            "Requirement already satisfied: cachetools<3.2,>=2.0.0 in /usr/local/lib/python3.6/dist-packages (from google-auth<2,>=1.6.3->tensorboard<2.1.0,>=2.0.0->tensorflow<=2.0.1,>=2.0.0->turicreate) (3.1.1)\n",
            "Requirement already satisfied: rsa<4.1,>=3.1.4 in /usr/local/lib/python3.6/dist-packages (from google-auth<2,>=1.6.3->tensorboard<2.1.0,>=2.0.0->tensorflow<=2.0.1,>=2.0.0->turicreate) (4.0)\n",
            "Requirement already satisfied: pyasn1-modules>=0.2.1 in /usr/local/lib/python3.6/dist-packages (from google-auth<2,>=1.6.3->tensorboard<2.1.0,>=2.0.0->tensorflow<=2.0.1,>=2.0.0->turicreate) (0.2.8)\n",
            "Requirement already satisfied: oauthlib>=3.0.0 in /usr/local/lib/python3.6/dist-packages (from requests-oauthlib>=0.7.0->google-auth-oauthlib<0.5,>=0.4.1->tensorboard<2.1.0,>=2.0.0->tensorflow<=2.0.1,>=2.0.0->turicreate) (3.1.0)\n",
            "Requirement already satisfied: pyasn1>=0.1.3 in /usr/local/lib/python3.6/dist-packages (from rsa<4.1,>=3.1.4->google-auth<2,>=1.6.3->tensorboard<2.1.0,>=2.0.0->tensorflow<=2.0.1,>=2.0.0->turicreate) (0.4.8)\n",
            "Building wheels for collected packages: resampy, gast\n",
            "  Building wheel for resampy (setup.py) ... \u001b[?25l\u001b[?25hdone\n",
            "  Created wheel for resampy: filename=resampy-0.2.1-cp36-none-any.whl size=320850 sha256=f6aa7e8c9162909bf9c7251c323a3564d49015d2dffd3ee93f186dffcbd80d1a\n",
            "  Stored in directory: /root/.cache/pip/wheels/ff/4f/ed/2e6c676c23efe5394bb40ade50662e90eb46e29b48324c5f9b\n",
            "  Building wheel for gast (setup.py) ... \u001b[?25l\u001b[?25hdone\n",
            "  Created wheel for gast: filename=gast-0.2.2-cp36-none-any.whl size=7540 sha256=bdbee0b31a359c797991ed771c47248a4520f45be1f46a0d2f88e2c0962a0b6e\n",
            "  Stored in directory: /root/.cache/pip/wheels/5c/2e/7e/a1d4d4fcebe6c381f378ce7743a3ced3699feb89bcfbdadadd\n",
            "Successfully built resampy gast\n",
            "\u001b[31mERROR: tensorflow-probability 0.10.0rc0 has requirement gast>=0.3.2, but you'll have gast 0.2.2 which is incompatible.\u001b[0m\n",
            "Installing collected packages: coremltools, resampy, gast, tensorflow-estimator, tensorboard, tensorflow, turicreate\n",
            "  Found existing installation: resampy 0.2.2\n",
            "    Uninstalling resampy-0.2.2:\n",
            "      Successfully uninstalled resampy-0.2.2\n",
            "  Found existing installation: gast 0.3.3\n",
            "    Uninstalling gast-0.3.3:\n",
            "      Successfully uninstalled gast-0.3.3\n",
            "  Found existing installation: tensorflow-estimator 2.2.0\n",
            "    Uninstalling tensorflow-estimator-2.2.0:\n",
            "      Successfully uninstalled tensorflow-estimator-2.2.0\n",
            "  Found existing installation: tensorboard 2.2.1\n",
            "    Uninstalling tensorboard-2.2.1:\n",
            "      Successfully uninstalled tensorboard-2.2.1\n",
            "  Found existing installation: tensorflow 2.2.0\n",
            "    Uninstalling tensorflow-2.2.0:\n",
            "      Successfully uninstalled tensorflow-2.2.0\n",
            "Successfully installed coremltools-3.3 gast-0.2.2 resampy-0.2.1 tensorboard-2.0.2 tensorflow-2.0.1 tensorflow-estimator-2.0.1 turicreate-6.2.2\n"
          ],
          "name": "stdout"
        }
      ]
    },
    {
      "cell_type": "markdown",
      "metadata": {
        "id": "g7zGYhx3wBva",
        "colab_type": "text"
      },
      "source": [
        "**TASK 3**"
      ]
    },
    {
      "cell_type": "code",
      "metadata": {
        "id": "9yk2VdWz9t6v",
        "colab_type": "code",
        "colab": {
          "base_uri": "https://localhost:8080/",
          "height": 1000
        },
        "outputId": "d458cee3-e7c1-43c2-9003-02719fc9ce04"
      },
      "source": [
        "import turicreate as tc\n",
        "from sklearn.metrics import mean_absolute_error\n",
        "\n",
        "#change names for model calculation\n",
        "train_sf = train_set\n",
        "test_sf = test_set\n",
        "test_sf = test_sf.rename(columns={\"user id\": \"user_id\", \"movie id\": \"item_id\"})\n",
        "test_sf = tc.SFrame(test_sf)\n",
        "train_sf = train_sf.drop(columns=['timestamp'])\n",
        "train_sf = train_set.rename(columns={\"user id\": \"user_id\", \"movie id\": \"item_id\"})\n",
        "train_sf = tc.SFrame(train_sf)\n",
        "backup1 = test_sf['rating']\n",
        "backup2 = test_sf['rating']\n",
        "backup3 = test_sf['rating']\n",
        "backup4 = test_sf['rating']\n",
        "#matrix factorization\n",
        "matrix = tc.ranking_factorization_recommender.create(train_sf, user_id='user_id', item_id='item_id', target='rating');\n",
        "solution_matrix_factorization = matrix.predict(test_sf)\n",
        "a = mean_absolute_error(backup1, solution_matrix_factorization)\n",
        "\n",
        "#user to user\n",
        "user_user = tc.recommender.item_similarity_recommender.create(train_sf, user_id='user_id', item_id='item_id', target='rating', similarity_type='jaccard')\n",
        "solution_user_to_user = user_user.predict(test_sf)\n",
        "b = mean_absolute_error(backup2, solution_user_to_user)\n",
        "\n",
        "#item similarity\n",
        "item_similarity = tc.recommender.item_similarity_recommender.create(train_sf, user_id='user_id', item_id='item_id', target='rating', similarity_type='cosine')\n",
        "solution_item_similarity = item_similarity.predict(test_sf)\n",
        "c = mean_absolute_error(backup3, solution_item_similarity)\n",
        "\n",
        "#item content\n",
        "movies = items_df.drop(['movie title', 'video release date', 'IMDb URL', 'release date'], axis=1)\n",
        "movies = movies.rename(columns={\"movie id\": \"item_id\"})\n",
        "movies['item_id']=movies['item_id'].astype(int)\n",
        "movies = tc.SFrame(movies)\n",
        "item_content = tc.item_content_recommender.create(movies, observation_data=train_sf, user_id='user_id', item_id='item_id', target='rating')\n",
        "solution_item_content = item_content.predict(test_sf)\n",
        "d = mean_absolute_error(backup4, solution_item_content)\n",
        "\n",
        "print('{0}  {1}'.format('MAE matrix factorization:', a))\n",
        "print('{0}  {1}'.format('MAE user to user:', b))\n",
        "print('{0}  {1}'.format('MAE item similarity:', c))\n",
        "print('{0}  {1}'.format('MAE item content:', d))"
      ],
      "execution_count": null,
      "outputs": [
        {
          "output_type": "display_data",
          "data": {
            "text/html": [
              "<pre>Preparing data set.</pre>"
            ],
            "text/plain": [
              "Preparing data set."
            ]
          },
          "metadata": {
            "tags": []
          }
        },
        {
          "output_type": "display_data",
          "data": {
            "text/html": [
              "<pre>    Data has 78108 observations with 943 users and 1115 items.</pre>"
            ],
            "text/plain": [
              "    Data has 78108 observations with 943 users and 1115 items."
            ]
          },
          "metadata": {
            "tags": []
          }
        },
        {
          "output_type": "display_data",
          "data": {
            "text/html": [
              "<pre>    Data prepared in: 0.106017s</pre>"
            ],
            "text/plain": [
              "    Data prepared in: 0.106017s"
            ]
          },
          "metadata": {
            "tags": []
          }
        },
        {
          "output_type": "display_data",
          "data": {
            "text/html": [
              "<pre>Training ranking_factorization_recommender for recommendations.</pre>"
            ],
            "text/plain": [
              "Training ranking_factorization_recommender for recommendations."
            ]
          },
          "metadata": {
            "tags": []
          }
        },
        {
          "output_type": "display_data",
          "data": {
            "text/html": [
              "<pre>+--------------------------------+--------------------------------------------------+----------+</pre>"
            ],
            "text/plain": [
              "+--------------------------------+--------------------------------------------------+----------+"
            ]
          },
          "metadata": {
            "tags": []
          }
        },
        {
          "output_type": "display_data",
          "data": {
            "text/html": [
              "<pre>| Parameter                      | Description                                      | Value    |</pre>"
            ],
            "text/plain": [
              "| Parameter                      | Description                                      | Value    |"
            ]
          },
          "metadata": {
            "tags": []
          }
        },
        {
          "output_type": "display_data",
          "data": {
            "text/html": [
              "<pre>+--------------------------------+--------------------------------------------------+----------+</pre>"
            ],
            "text/plain": [
              "+--------------------------------+--------------------------------------------------+----------+"
            ]
          },
          "metadata": {
            "tags": []
          }
        },
        {
          "output_type": "display_data",
          "data": {
            "text/html": [
              "<pre>| num_factors                    | Factor Dimension                                 | 32       |</pre>"
            ],
            "text/plain": [
              "| num_factors                    | Factor Dimension                                 | 32       |"
            ]
          },
          "metadata": {
            "tags": []
          }
        },
        {
          "output_type": "display_data",
          "data": {
            "text/html": [
              "<pre>| regularization                 | L2 Regularization on Factors                     | 1e-09    |</pre>"
            ],
            "text/plain": [
              "| regularization                 | L2 Regularization on Factors                     | 1e-09    |"
            ]
          },
          "metadata": {
            "tags": []
          }
        },
        {
          "output_type": "display_data",
          "data": {
            "text/html": [
              "<pre>| solver                         | Solver used for training                         | adagrad  |</pre>"
            ],
            "text/plain": [
              "| solver                         | Solver used for training                         | adagrad  |"
            ]
          },
          "metadata": {
            "tags": []
          }
        },
        {
          "output_type": "display_data",
          "data": {
            "text/html": [
              "<pre>| linear_regularization          | L2 Regularization on Linear Coefficients         | 1e-09    |</pre>"
            ],
            "text/plain": [
              "| linear_regularization          | L2 Regularization on Linear Coefficients         | 1e-09    |"
            ]
          },
          "metadata": {
            "tags": []
          }
        },
        {
          "output_type": "display_data",
          "data": {
            "text/html": [
              "<pre>| ranking_regularization         | Rank-based Regularization Weight                 | 0.25     |</pre>"
            ],
            "text/plain": [
              "| ranking_regularization         | Rank-based Regularization Weight                 | 0.25     |"
            ]
          },
          "metadata": {
            "tags": []
          }
        },
        {
          "output_type": "display_data",
          "data": {
            "text/html": [
              "<pre>| max_iterations                 | Maximum Number of Iterations                     | 25       |</pre>"
            ],
            "text/plain": [
              "| max_iterations                 | Maximum Number of Iterations                     | 25       |"
            ]
          },
          "metadata": {
            "tags": []
          }
        },
        {
          "output_type": "display_data",
          "data": {
            "text/html": [
              "<pre>+--------------------------------+--------------------------------------------------+----------+</pre>"
            ],
            "text/plain": [
              "+--------------------------------+--------------------------------------------------+----------+"
            ]
          },
          "metadata": {
            "tags": []
          }
        },
        {
          "output_type": "display_data",
          "data": {
            "text/html": [
              "<pre>  Optimizing model using SGD; tuning step size.</pre>"
            ],
            "text/plain": [
              "  Optimizing model using SGD; tuning step size."
            ]
          },
          "metadata": {
            "tags": []
          }
        },
        {
          "output_type": "display_data",
          "data": {
            "text/html": [
              "<pre>  Using 10000 / 78108 points for tuning the step size.</pre>"
            ],
            "text/plain": [
              "  Using 10000 / 78108 points for tuning the step size."
            ]
          },
          "metadata": {
            "tags": []
          }
        },
        {
          "output_type": "display_data",
          "data": {
            "text/html": [
              "<pre>+---------+-------------------+------------------------------------------+</pre>"
            ],
            "text/plain": [
              "+---------+-------------------+------------------------------------------+"
            ]
          },
          "metadata": {
            "tags": []
          }
        },
        {
          "output_type": "display_data",
          "data": {
            "text/html": [
              "<pre>| Attempt | Initial Step Size | Estimated Objective Value                |</pre>"
            ],
            "text/plain": [
              "| Attempt | Initial Step Size | Estimated Objective Value                |"
            ]
          },
          "metadata": {
            "tags": []
          }
        },
        {
          "output_type": "display_data",
          "data": {
            "text/html": [
              "<pre>+---------+-------------------+------------------------------------------+</pre>"
            ],
            "text/plain": [
              "+---------+-------------------+------------------------------------------+"
            ]
          },
          "metadata": {
            "tags": []
          }
        },
        {
          "output_type": "display_data",
          "data": {
            "text/html": [
              "<pre>| 0       | 16.6667           | Not Viable                               |</pre>"
            ],
            "text/plain": [
              "| 0       | 16.6667           | Not Viable                               |"
            ]
          },
          "metadata": {
            "tags": []
          }
        },
        {
          "output_type": "display_data",
          "data": {
            "text/html": [
              "<pre>| 1       | 4.16667           | Not Viable                               |</pre>"
            ],
            "text/plain": [
              "| 1       | 4.16667           | Not Viable                               |"
            ]
          },
          "metadata": {
            "tags": []
          }
        },
        {
          "output_type": "display_data",
          "data": {
            "text/html": [
              "<pre>| 2       | 1.04167           | Not Viable                               |</pre>"
            ],
            "text/plain": [
              "| 2       | 1.04167           | Not Viable                               |"
            ]
          },
          "metadata": {
            "tags": []
          }
        },
        {
          "output_type": "display_data",
          "data": {
            "text/html": [
              "<pre>| 3       | 0.260417          | Not Viable                               |</pre>"
            ],
            "text/plain": [
              "| 3       | 0.260417          | Not Viable                               |"
            ]
          },
          "metadata": {
            "tags": []
          }
        },
        {
          "output_type": "display_data",
          "data": {
            "text/html": [
              "<pre>| 4       | 0.0651042         | 1.3639                                   |</pre>"
            ],
            "text/plain": [
              "| 4       | 0.0651042         | 1.3639                                   |"
            ]
          },
          "metadata": {
            "tags": []
          }
        },
        {
          "output_type": "display_data",
          "data": {
            "text/html": [
              "<pre>| 5       | 0.0325521         | 1.67337                                  |</pre>"
            ],
            "text/plain": [
              "| 5       | 0.0325521         | 1.67337                                  |"
            ]
          },
          "metadata": {
            "tags": []
          }
        },
        {
          "output_type": "display_data",
          "data": {
            "text/html": [
              "<pre>| 6       | 0.016276          | 2.02348                                  |</pre>"
            ],
            "text/plain": [
              "| 6       | 0.016276          | 2.02348                                  |"
            ]
          },
          "metadata": {
            "tags": []
          }
        },
        {
          "output_type": "display_data",
          "data": {
            "text/html": [
              "<pre>| 7       | 0.00813802        | 2.12562                                  |</pre>"
            ],
            "text/plain": [
              "| 7       | 0.00813802        | 2.12562                                  |"
            ]
          },
          "metadata": {
            "tags": []
          }
        },
        {
          "output_type": "display_data",
          "data": {
            "text/html": [
              "<pre>+---------+-------------------+------------------------------------------+</pre>"
            ],
            "text/plain": [
              "+---------+-------------------+------------------------------------------+"
            ]
          },
          "metadata": {
            "tags": []
          }
        },
        {
          "output_type": "display_data",
          "data": {
            "text/html": [
              "<pre>| Final   | 0.0651042         | 1.3639                                   |</pre>"
            ],
            "text/plain": [
              "| Final   | 0.0651042         | 1.3639                                   |"
            ]
          },
          "metadata": {
            "tags": []
          }
        },
        {
          "output_type": "display_data",
          "data": {
            "text/html": [
              "<pre>+---------+-------------------+------------------------------------------+</pre>"
            ],
            "text/plain": [
              "+---------+-------------------+------------------------------------------+"
            ]
          },
          "metadata": {
            "tags": []
          }
        },
        {
          "output_type": "display_data",
          "data": {
            "text/html": [
              "<pre>Starting Optimization.</pre>"
            ],
            "text/plain": [
              "Starting Optimization."
            ]
          },
          "metadata": {
            "tags": []
          }
        },
        {
          "output_type": "display_data",
          "data": {
            "text/html": [
              "<pre>+---------+--------------+-------------------+-----------------------+-------------+</pre>"
            ],
            "text/plain": [
              "+---------+--------------+-------------------+-----------------------+-------------+"
            ]
          },
          "metadata": {
            "tags": []
          }
        },
        {
          "output_type": "display_data",
          "data": {
            "text/html": [
              "<pre>| Iter.   | Elapsed Time | Approx. Objective | Approx. Training RMSE | Step Size   |</pre>"
            ],
            "text/plain": [
              "| Iter.   | Elapsed Time | Approx. Objective | Approx. Training RMSE | Step Size   |"
            ]
          },
          "metadata": {
            "tags": []
          }
        },
        {
          "output_type": "display_data",
          "data": {
            "text/html": [
              "<pre>+---------+--------------+-------------------+-----------------------+-------------+</pre>"
            ],
            "text/plain": [
              "+---------+--------------+-------------------+-----------------------+-------------+"
            ]
          },
          "metadata": {
            "tags": []
          }
        },
        {
          "output_type": "display_data",
          "data": {
            "text/html": [
              "<pre>| Initial | 116us        | 2.41238           | 1.10922               |             |</pre>"
            ],
            "text/plain": [
              "| Initial | 116us        | 2.41238           | 1.10922               |             |"
            ]
          },
          "metadata": {
            "tags": []
          }
        },
        {
          "output_type": "display_data",
          "data": {
            "text/html": [
              "<pre>+---------+--------------+-------------------+-----------------------+-------------+</pre>"
            ],
            "text/plain": [
              "+---------+--------------+-------------------+-----------------------+-------------+"
            ]
          },
          "metadata": {
            "tags": []
          }
        },
        {
          "output_type": "display_data",
          "data": {
            "text/html": [
              "<pre>| 1       | 339.371ms    | 1.91758           | 1.0519                | 0.0651042   |</pre>"
            ],
            "text/plain": [
              "| 1       | 339.371ms    | 1.91758           | 1.0519                | 0.0651042   |"
            ]
          },
          "metadata": {
            "tags": []
          }
        },
        {
          "output_type": "display_data",
          "data": {
            "text/html": [
              "<pre>| 2       | 501.089ms    | 1.75842           | 0.975936              | 0.0651042   |</pre>"
            ],
            "text/plain": [
              "| 2       | 501.089ms    | 1.75842           | 0.975936              | 0.0651042   |"
            ]
          },
          "metadata": {
            "tags": []
          }
        },
        {
          "output_type": "display_data",
          "data": {
            "text/html": [
              "<pre>| 3       | 835.779ms    | 1.65627           | 0.951945              | 0.0651042   |</pre>"
            ],
            "text/plain": [
              "| 3       | 835.779ms    | 1.65627           | 0.951945              | 0.0651042   |"
            ]
          },
          "metadata": {
            "tags": []
          }
        },
        {
          "output_type": "display_data",
          "data": {
            "text/html": [
              "<pre>| 4       | 1.01s        | 1.58102           | 0.930954              | 0.0651042   |</pre>"
            ],
            "text/plain": [
              "| 4       | 1.01s        | 1.58102           | 0.930954              | 0.0651042   |"
            ]
          },
          "metadata": {
            "tags": []
          }
        },
        {
          "output_type": "display_data",
          "data": {
            "text/html": [
              "<pre>| 5       | 1.14s        | 1.50744           | 0.909031              | 0.0651042   |</pre>"
            ],
            "text/plain": [
              "| 5       | 1.14s        | 1.50744           | 0.909031              | 0.0651042   |"
            ]
          },
          "metadata": {
            "tags": []
          }
        },
        {
          "output_type": "display_data",
          "data": {
            "text/html": [
              "<pre>| 10      | 2.59s        | 1.37804           | 0.867893              | 0.0651042   |</pre>"
            ],
            "text/plain": [
              "| 10      | 2.59s        | 1.37804           | 0.867893              | 0.0651042   |"
            ]
          },
          "metadata": {
            "tags": []
          }
        },
        {
          "output_type": "display_data",
          "data": {
            "text/html": [
              "<pre>| 25      | 6.27s        | 1.128             | 0.7514                | 0.0651042   |</pre>"
            ],
            "text/plain": [
              "| 25      | 6.27s        | 1.128             | 0.7514                | 0.0651042   |"
            ]
          },
          "metadata": {
            "tags": []
          }
        },
        {
          "output_type": "display_data",
          "data": {
            "text/html": [
              "<pre>+---------+--------------+-------------------+-----------------------+-------------+</pre>"
            ],
            "text/plain": [
              "+---------+--------------+-------------------+-----------------------+-------------+"
            ]
          },
          "metadata": {
            "tags": []
          }
        },
        {
          "output_type": "display_data",
          "data": {
            "text/html": [
              "<pre>Optimization Complete: Maximum number of passes through the data reached.</pre>"
            ],
            "text/plain": [
              "Optimization Complete: Maximum number of passes through the data reached."
            ]
          },
          "metadata": {
            "tags": []
          }
        },
        {
          "output_type": "display_data",
          "data": {
            "text/html": [
              "<pre>Computing final objective value and training RMSE.</pre>"
            ],
            "text/plain": [
              "Computing final objective value and training RMSE."
            ]
          },
          "metadata": {
            "tags": []
          }
        },
        {
          "output_type": "display_data",
          "data": {
            "text/html": [
              "<pre>       Final objective value: 1.16324</pre>"
            ],
            "text/plain": [
              "       Final objective value: 1.16324"
            ]
          },
          "metadata": {
            "tags": []
          }
        },
        {
          "output_type": "display_data",
          "data": {
            "text/html": [
              "<pre>       Final training RMSE: 0.73505</pre>"
            ],
            "text/plain": [
              "       Final training RMSE: 0.73505"
            ]
          },
          "metadata": {
            "tags": []
          }
        },
        {
          "output_type": "display_data",
          "data": {
            "text/html": [
              "<pre>Warning: Ignoring columns timestamp;</pre>"
            ],
            "text/plain": [
              "Warning: Ignoring columns timestamp;"
            ]
          },
          "metadata": {
            "tags": []
          }
        },
        {
          "output_type": "display_data",
          "data": {
            "text/html": [
              "<pre>    To use these columns in scoring predictions, use a model that allows the use of additional features.</pre>"
            ],
            "text/plain": [
              "    To use these columns in scoring predictions, use a model that allows the use of additional features."
            ]
          },
          "metadata": {
            "tags": []
          }
        },
        {
          "output_type": "display_data",
          "data": {
            "text/html": [
              "<pre>Preparing data set.</pre>"
            ],
            "text/plain": [
              "Preparing data set."
            ]
          },
          "metadata": {
            "tags": []
          }
        },
        {
          "output_type": "display_data",
          "data": {
            "text/html": [
              "<pre>    Data has 78108 observations with 943 users and 1115 items.</pre>"
            ],
            "text/plain": [
              "    Data has 78108 observations with 943 users and 1115 items."
            ]
          },
          "metadata": {
            "tags": []
          }
        },
        {
          "output_type": "display_data",
          "data": {
            "text/html": [
              "<pre>    Data prepared in: 0.072074s</pre>"
            ],
            "text/plain": [
              "    Data prepared in: 0.072074s"
            ]
          },
          "metadata": {
            "tags": []
          }
        },
        {
          "output_type": "display_data",
          "data": {
            "text/html": [
              "<pre>Training model from provided data.</pre>"
            ],
            "text/plain": [
              "Training model from provided data."
            ]
          },
          "metadata": {
            "tags": []
          }
        },
        {
          "output_type": "display_data",
          "data": {
            "text/html": [
              "<pre>Gathering per-item and per-user statistics.</pre>"
            ],
            "text/plain": [
              "Gathering per-item and per-user statistics."
            ]
          },
          "metadata": {
            "tags": []
          }
        },
        {
          "output_type": "display_data",
          "data": {
            "text/html": [
              "<pre>+--------------------------------+------------+</pre>"
            ],
            "text/plain": [
              "+--------------------------------+------------+"
            ]
          },
          "metadata": {
            "tags": []
          }
        },
        {
          "output_type": "display_data",
          "data": {
            "text/html": [
              "<pre>| Elapsed Time (Item Statistics) | % Complete |</pre>"
            ],
            "text/plain": [
              "| Elapsed Time (Item Statistics) | % Complete |"
            ]
          },
          "metadata": {
            "tags": []
          }
        },
        {
          "output_type": "display_data",
          "data": {
            "text/html": [
              "<pre>+--------------------------------+------------+</pre>"
            ],
            "text/plain": [
              "+--------------------------------+------------+"
            ]
          },
          "metadata": {
            "tags": []
          }
        },
        {
          "output_type": "display_data",
          "data": {
            "text/html": [
              "<pre>| 24.864ms                       | 100        |</pre>"
            ],
            "text/plain": [
              "| 24.864ms                       | 100        |"
            ]
          },
          "metadata": {
            "tags": []
          }
        },
        {
          "output_type": "display_data",
          "data": {
            "text/html": [
              "<pre>+--------------------------------+------------+</pre>"
            ],
            "text/plain": [
              "+--------------------------------+------------+"
            ]
          },
          "metadata": {
            "tags": []
          }
        },
        {
          "output_type": "display_data",
          "data": {
            "text/html": [
              "<pre>Setting up lookup tables.</pre>"
            ],
            "text/plain": [
              "Setting up lookup tables."
            ]
          },
          "metadata": {
            "tags": []
          }
        },
        {
          "output_type": "display_data",
          "data": {
            "text/html": [
              "<pre>Processing data in one pass using dense lookup tables.</pre>"
            ],
            "text/plain": [
              "Processing data in one pass using dense lookup tables."
            ]
          },
          "metadata": {
            "tags": []
          }
        },
        {
          "output_type": "display_data",
          "data": {
            "text/html": [
              "<pre>+-------------------------------------+------------------+-----------------+</pre>"
            ],
            "text/plain": [
              "+-------------------------------------+------------------+-----------------+"
            ]
          },
          "metadata": {
            "tags": []
          }
        },
        {
          "output_type": "display_data",
          "data": {
            "text/html": [
              "<pre>| Elapsed Time (Constructing Lookups) | Total % Complete | Items Processed |</pre>"
            ],
            "text/plain": [
              "| Elapsed Time (Constructing Lookups) | Total % Complete | Items Processed |"
            ]
          },
          "metadata": {
            "tags": []
          }
        },
        {
          "output_type": "display_data",
          "data": {
            "text/html": [
              "<pre>+-------------------------------------+------------------+-----------------+</pre>"
            ],
            "text/plain": [
              "+-------------------------------------+------------------+-----------------+"
            ]
          },
          "metadata": {
            "tags": []
          }
        },
        {
          "output_type": "display_data",
          "data": {
            "text/html": [
              "<pre>| 26.565ms                            | 0                | 0               |</pre>"
            ],
            "text/plain": [
              "| 26.565ms                            | 0                | 0               |"
            ]
          },
          "metadata": {
            "tags": []
          }
        },
        {
          "output_type": "display_data",
          "data": {
            "text/html": [
              "<pre>| 58.256ms                            | 100              | 1115            |</pre>"
            ],
            "text/plain": [
              "| 58.256ms                            | 100              | 1115            |"
            ]
          },
          "metadata": {
            "tags": []
          }
        },
        {
          "output_type": "display_data",
          "data": {
            "text/html": [
              "<pre>+-------------------------------------+------------------+-----------------+</pre>"
            ],
            "text/plain": [
              "+-------------------------------------+------------------+-----------------+"
            ]
          },
          "metadata": {
            "tags": []
          }
        },
        {
          "output_type": "display_data",
          "data": {
            "text/html": [
              "<pre>Finalizing lookup tables.</pre>"
            ],
            "text/plain": [
              "Finalizing lookup tables."
            ]
          },
          "metadata": {
            "tags": []
          }
        },
        {
          "output_type": "display_data",
          "data": {
            "text/html": [
              "<pre>Generating candidate set for working with new users.</pre>"
            ],
            "text/plain": [
              "Generating candidate set for working with new users."
            ]
          },
          "metadata": {
            "tags": []
          }
        },
        {
          "output_type": "display_data",
          "data": {
            "text/html": [
              "<pre>Finished training in 0.082963s</pre>"
            ],
            "text/plain": [
              "Finished training in 0.082963s"
            ]
          },
          "metadata": {
            "tags": []
          }
        },
        {
          "output_type": "display_data",
          "data": {
            "text/html": [
              "<pre>Warning: Ignoring columns timestamp;</pre>"
            ],
            "text/plain": [
              "Warning: Ignoring columns timestamp;"
            ]
          },
          "metadata": {
            "tags": []
          }
        },
        {
          "output_type": "display_data",
          "data": {
            "text/html": [
              "<pre>    To use these columns in scoring predictions, use a model that allows the use of additional features.</pre>"
            ],
            "text/plain": [
              "    To use these columns in scoring predictions, use a model that allows the use of additional features."
            ]
          },
          "metadata": {
            "tags": []
          }
        },
        {
          "output_type": "display_data",
          "data": {
            "text/html": [
              "<pre>Preparing data set.</pre>"
            ],
            "text/plain": [
              "Preparing data set."
            ]
          },
          "metadata": {
            "tags": []
          }
        },
        {
          "output_type": "display_data",
          "data": {
            "text/html": [
              "<pre>    Data has 78108 observations with 943 users and 1115 items.</pre>"
            ],
            "text/plain": [
              "    Data has 78108 observations with 943 users and 1115 items."
            ]
          },
          "metadata": {
            "tags": []
          }
        },
        {
          "output_type": "display_data",
          "data": {
            "text/html": [
              "<pre>    Data prepared in: 0.091823s</pre>"
            ],
            "text/plain": [
              "    Data prepared in: 0.091823s"
            ]
          },
          "metadata": {
            "tags": []
          }
        },
        {
          "output_type": "display_data",
          "data": {
            "text/html": [
              "<pre>Training model from provided data.</pre>"
            ],
            "text/plain": [
              "Training model from provided data."
            ]
          },
          "metadata": {
            "tags": []
          }
        },
        {
          "output_type": "display_data",
          "data": {
            "text/html": [
              "<pre>Gathering per-item and per-user statistics.</pre>"
            ],
            "text/plain": [
              "Gathering per-item and per-user statistics."
            ]
          },
          "metadata": {
            "tags": []
          }
        },
        {
          "output_type": "display_data",
          "data": {
            "text/html": [
              "<pre>+--------------------------------+------------+</pre>"
            ],
            "text/plain": [
              "+--------------------------------+------------+"
            ]
          },
          "metadata": {
            "tags": []
          }
        },
        {
          "output_type": "display_data",
          "data": {
            "text/html": [
              "<pre>| Elapsed Time (Item Statistics) | % Complete |</pre>"
            ],
            "text/plain": [
              "| Elapsed Time (Item Statistics) | % Complete |"
            ]
          },
          "metadata": {
            "tags": []
          }
        },
        {
          "output_type": "display_data",
          "data": {
            "text/html": [
              "<pre>+--------------------------------+------------+</pre>"
            ],
            "text/plain": [
              "+--------------------------------+------------+"
            ]
          },
          "metadata": {
            "tags": []
          }
        },
        {
          "output_type": "display_data",
          "data": {
            "text/html": [
              "<pre>| 15.834ms                       | 100        |</pre>"
            ],
            "text/plain": [
              "| 15.834ms                       | 100        |"
            ]
          },
          "metadata": {
            "tags": []
          }
        },
        {
          "output_type": "display_data",
          "data": {
            "text/html": [
              "<pre>+--------------------------------+------------+</pre>"
            ],
            "text/plain": [
              "+--------------------------------+------------+"
            ]
          },
          "metadata": {
            "tags": []
          }
        },
        {
          "output_type": "display_data",
          "data": {
            "text/html": [
              "<pre>Setting up lookup tables.</pre>"
            ],
            "text/plain": [
              "Setting up lookup tables."
            ]
          },
          "metadata": {
            "tags": []
          }
        },
        {
          "output_type": "display_data",
          "data": {
            "text/html": [
              "<pre>Processing data in one pass using dense lookup tables.</pre>"
            ],
            "text/plain": [
              "Processing data in one pass using dense lookup tables."
            ]
          },
          "metadata": {
            "tags": []
          }
        },
        {
          "output_type": "display_data",
          "data": {
            "text/html": [
              "<pre>+-------------------------------------+------------------+-----------------+</pre>"
            ],
            "text/plain": [
              "+-------------------------------------+------------------+-----------------+"
            ]
          },
          "metadata": {
            "tags": []
          }
        },
        {
          "output_type": "display_data",
          "data": {
            "text/html": [
              "<pre>| Elapsed Time (Constructing Lookups) | Total % Complete | Items Processed |</pre>"
            ],
            "text/plain": [
              "| Elapsed Time (Constructing Lookups) | Total % Complete | Items Processed |"
            ]
          },
          "metadata": {
            "tags": []
          }
        },
        {
          "output_type": "display_data",
          "data": {
            "text/html": [
              "<pre>+-------------------------------------+------------------+-----------------+</pre>"
            ],
            "text/plain": [
              "+-------------------------------------+------------------+-----------------+"
            ]
          },
          "metadata": {
            "tags": []
          }
        },
        {
          "output_type": "display_data",
          "data": {
            "text/html": [
              "<pre>| 17.43ms                             | 0                | 1               |</pre>"
            ],
            "text/plain": [
              "| 17.43ms                             | 0                | 1               |"
            ]
          },
          "metadata": {
            "tags": []
          }
        },
        {
          "output_type": "display_data",
          "data": {
            "text/html": [
              "<pre>| 47.707ms                            | 100              | 1115            |</pre>"
            ],
            "text/plain": [
              "| 47.707ms                            | 100              | 1115            |"
            ]
          },
          "metadata": {
            "tags": []
          }
        },
        {
          "output_type": "display_data",
          "data": {
            "text/html": [
              "<pre>+-------------------------------------+------------------+-----------------+</pre>"
            ],
            "text/plain": [
              "+-------------------------------------+------------------+-----------------+"
            ]
          },
          "metadata": {
            "tags": []
          }
        },
        {
          "output_type": "display_data",
          "data": {
            "text/html": [
              "<pre>Finalizing lookup tables.</pre>"
            ],
            "text/plain": [
              "Finalizing lookup tables."
            ]
          },
          "metadata": {
            "tags": []
          }
        },
        {
          "output_type": "display_data",
          "data": {
            "text/html": [
              "<pre>Generating candidate set for working with new users.</pre>"
            ],
            "text/plain": [
              "Generating candidate set for working with new users."
            ]
          },
          "metadata": {
            "tags": []
          }
        },
        {
          "output_type": "display_data",
          "data": {
            "text/html": [
              "<pre>Finished training in 0.055805s</pre>"
            ],
            "text/plain": [
              "Finished training in 0.055805s"
            ]
          },
          "metadata": {
            "tags": []
          }
        },
        {
          "output_type": "display_data",
          "data": {
            "text/html": [
              "<pre>Using default 16 lambda workers.</pre>"
            ],
            "text/plain": [
              "Using default 16 lambda workers."
            ]
          },
          "metadata": {
            "tags": []
          }
        },
        {
          "output_type": "display_data",
          "data": {
            "text/html": [
              "<pre>To maximize the degree of parallelism, add the following code to the beginning of the program:</pre>"
            ],
            "text/plain": [
              "To maximize the degree of parallelism, add the following code to the beginning of the program:"
            ]
          },
          "metadata": {
            "tags": []
          }
        },
        {
          "output_type": "display_data",
          "data": {
            "text/html": [
              "<pre>\"turicreate.config.set_runtime_config('TURI_DEFAULT_NUM_PYLAMBDA_WORKERS', 40)\"</pre>"
            ],
            "text/plain": [
              "\"turicreate.config.set_runtime_config('TURI_DEFAULT_NUM_PYLAMBDA_WORKERS', 40)\""
            ]
          },
          "metadata": {
            "tags": []
          }
        },
        {
          "output_type": "display_data",
          "data": {
            "text/html": [
              "<pre>Note that increasing the degree of parallelism also increases the memory footprint.</pre>"
            ],
            "text/plain": [
              "Note that increasing the degree of parallelism also increases the memory footprint."
            ]
          },
          "metadata": {
            "tags": []
          }
        },
        {
          "output_type": "stream",
          "text": [
            "Applying transform:\n",
            "Class             : AutoVectorizer\n",
            "\n",
            "Model Fields\n",
            "------------\n",
            "Features          : ['unknown', 'Action', 'Adventure', 'Animation', \"Children's\", 'Comedy', 'Crime', 'Documentary', 'Drama', 'Fantasy', 'Film-Noir', 'Horror', 'Musical', 'Mystery', 'Romance', 'Sci-Fi', 'Thriller', 'War', 'Western']\n",
            "Excluded Features : ['item_id']\n",
            "\n",
            "Column       Type  Interpretation  Transforms   Output Type\n",
            "-----------  ----  --------------  -----------  -----------\n",
            "unknown      int   categorical     astype(str)  str        \n",
            "Action       int   categorical     astype(str)  str        \n",
            "Adventure    int   categorical     astype(str)  str        \n",
            "Animation    int   categorical     astype(str)  str        \n",
            "Children's   int   categorical     astype(str)  str        \n",
            "Comedy       int   categorical     astype(str)  str        \n",
            "Crime        int   categorical     astype(str)  str        \n",
            "Documentary  int   categorical     astype(str)  str        \n",
            "Drama        int   categorical     astype(str)  str        \n",
            "Fantasy      int   categorical     astype(str)  str        \n",
            "Film-Noir    int   categorical     astype(str)  str        \n",
            "Horror       int   categorical     astype(str)  str        \n",
            "Musical      int   categorical     astype(str)  str        \n",
            "Mystery      int   categorical     astype(str)  str        \n",
            "Romance      int   categorical     astype(str)  str        \n",
            "Sci-Fi       int   categorical     astype(str)  str        \n",
            "Thriller     int   categorical     astype(str)  str        \n",
            "War          int   categorical     astype(str)  str        \n",
            "Western      int   categorical     astype(str)  str        \n",
            "\n",
            "\n",
            "Defaulting to brute force instead of ball tree because there are multiple distance components.\n"
          ],
          "name": "stdout"
        },
        {
          "output_type": "display_data",
          "data": {
            "text/html": [
              "<pre>Starting brute force nearest neighbors model training.</pre>"
            ],
            "text/plain": [
              "Starting brute force nearest neighbors model training."
            ]
          },
          "metadata": {
            "tags": []
          }
        },
        {
          "output_type": "display_data",
          "data": {
            "text/html": [
              "<pre>Validating distance components.</pre>"
            ],
            "text/plain": [
              "Validating distance components."
            ]
          },
          "metadata": {
            "tags": []
          }
        },
        {
          "output_type": "display_data",
          "data": {
            "text/html": [
              "<pre>Initializing model data.</pre>"
            ],
            "text/plain": [
              "Initializing model data."
            ]
          },
          "metadata": {
            "tags": []
          }
        },
        {
          "output_type": "display_data",
          "data": {
            "text/html": [
              "<pre>Initializing distances.</pre>"
            ],
            "text/plain": [
              "Initializing distances."
            ]
          },
          "metadata": {
            "tags": []
          }
        },
        {
          "output_type": "display_data",
          "data": {
            "text/html": [
              "<pre>Done.</pre>"
            ],
            "text/plain": [
              "Done."
            ]
          },
          "metadata": {
            "tags": []
          }
        },
        {
          "output_type": "display_data",
          "data": {
            "text/html": [
              "<pre>Starting pairwise querying.</pre>"
            ],
            "text/plain": [
              "Starting pairwise querying."
            ]
          },
          "metadata": {
            "tags": []
          }
        },
        {
          "output_type": "display_data",
          "data": {
            "text/html": [
              "<pre>+--------------+---------+-------------+--------------+</pre>"
            ],
            "text/plain": [
              "+--------------+---------+-------------+--------------+"
            ]
          },
          "metadata": {
            "tags": []
          }
        },
        {
          "output_type": "display_data",
          "data": {
            "text/html": [
              "<pre>| Query points | # Pairs | % Complete. | Elapsed Time |</pre>"
            ],
            "text/plain": [
              "| Query points | # Pairs | % Complete. | Elapsed Time |"
            ]
          },
          "metadata": {
            "tags": []
          }
        },
        {
          "output_type": "display_data",
          "data": {
            "text/html": [
              "<pre>+--------------+---------+-------------+--------------+</pre>"
            ],
            "text/plain": [
              "+--------------+---------+-------------+--------------+"
            ]
          },
          "metadata": {
            "tags": []
          }
        },
        {
          "output_type": "display_data",
          "data": {
            "text/html": [
              "<pre>| 1            | 1682    | 0.059453    | 9.352ms      |</pre>"
            ],
            "text/plain": [
              "| 1            | 1682    | 0.059453    | 9.352ms      |"
            ]
          },
          "metadata": {
            "tags": []
          }
        },
        {
          "output_type": "display_data",
          "data": {
            "text/html": [
              "<pre>| Done         |         | 100         | 75.911ms     |</pre>"
            ],
            "text/plain": [
              "| Done         |         | 100         | 75.911ms     |"
            ]
          },
          "metadata": {
            "tags": []
          }
        },
        {
          "output_type": "display_data",
          "data": {
            "text/html": [
              "<pre>+--------------+---------+-------------+--------------+</pre>"
            ],
            "text/plain": [
              "+--------------+---------+-------------+--------------+"
            ]
          },
          "metadata": {
            "tags": []
          }
        },
        {
          "output_type": "display_data",
          "data": {
            "text/html": [
              "<pre>Warning: Ignoring columns timestamp;</pre>"
            ],
            "text/plain": [
              "Warning: Ignoring columns timestamp;"
            ]
          },
          "metadata": {
            "tags": []
          }
        },
        {
          "output_type": "display_data",
          "data": {
            "text/html": [
              "<pre>    To use these columns in scoring predictions, use a model that allows the use of additional features.</pre>"
            ],
            "text/plain": [
              "    To use these columns in scoring predictions, use a model that allows the use of additional features."
            ]
          },
          "metadata": {
            "tags": []
          }
        },
        {
          "output_type": "display_data",
          "data": {
            "text/html": [
              "<pre>Preparing data set.</pre>"
            ],
            "text/plain": [
              "Preparing data set."
            ]
          },
          "metadata": {
            "tags": []
          }
        },
        {
          "output_type": "display_data",
          "data": {
            "text/html": [
              "<pre>    Data has 78108 observations with 943 users and 1682 items.</pre>"
            ],
            "text/plain": [
              "    Data has 78108 observations with 943 users and 1682 items."
            ]
          },
          "metadata": {
            "tags": []
          }
        },
        {
          "output_type": "display_data",
          "data": {
            "text/html": [
              "<pre>    Data prepared in: 0.182453s</pre>"
            ],
            "text/plain": [
              "    Data prepared in: 0.182453s"
            ]
          },
          "metadata": {
            "tags": []
          }
        },
        {
          "output_type": "display_data",
          "data": {
            "text/html": [
              "<pre>Loading user-provided nearest items.</pre>"
            ],
            "text/plain": [
              "Loading user-provided nearest items."
            ]
          },
          "metadata": {
            "tags": []
          }
        },
        {
          "output_type": "display_data",
          "data": {
            "text/html": [
              "<pre>Generating candidate set for working with new users.</pre>"
            ],
            "text/plain": [
              "Generating candidate set for working with new users."
            ]
          },
          "metadata": {
            "tags": []
          }
        },
        {
          "output_type": "display_data",
          "data": {
            "text/html": [
              "<pre>Finished training in 0.030361s</pre>"
            ],
            "text/plain": [
              "Finished training in 0.030361s"
            ]
          },
          "metadata": {
            "tags": []
          }
        },
        {
          "output_type": "stream",
          "text": [
            "MAE matrix factorization:  0.9192896721961588\n",
            "MAE user to user:  3.4899001554713918\n",
            "MAE item similarity:  3.2589447532955917\n",
            "MAE item content:  3.3578668684941624\n"
          ],
          "name": "stdout"
        }
      ]
    },
    {
      "cell_type": "markdown",
      "metadata": {
        "id": "jk2iK5qe-Tt9",
        "colab_type": "text"
      },
      "source": [
        "**TASK 4**"
      ]
    },
    {
      "cell_type": "markdown",
      "metadata": {
        "id": "Tz_wQAqpAUAz",
        "colab_type": "text"
      },
      "source": [
        "install libraries"
      ]
    },
    {
      "cell_type": "code",
      "metadata": {
        "id": "8vOFh8gwAMdd",
        "colab_type": "code",
        "colab": {
          "base_uri": "https://localhost:8080/",
          "height": 33
        },
        "outputId": "b5f7d72d-227b-436d-8e8e-30c207486788"
      },
      "source": [
        "import numpy as np\n",
        "import pandas as pd\n",
        "import os\n",
        "import tensorflow as T\n",
        "import keras\n",
        "from keras import backend as K\n",
        "from keras import initializers\n",
        "from keras.initializers import RandomNormal\n",
        "from keras.models import Sequential, Model, load_model, save_model\n",
        "from keras.layers.core import Dense, Lambda, Activation\n",
        "from keras.layers import Embedding, Input, Dense, merge, Reshape,  Flatten, Dropout\n",
        "from keras.optimizers import Adagrad, Adam, SGD, RMSprop, Adamax\n",
        "from keras.regularizers import l2\n",
        "from keras.layers import Multiply, Concatenate\n",
        "from keras.callbacks import Callback, EarlyStopping, ModelCheckpoint\n",
        "from time import time\n",
        "import multiprocessing as mp\n",
        "import sys\n",
        "import math\n",
        "import argparse\n",
        "import matplotlib.pyplot as plt\n"
      ],
      "execution_count": null,
      "outputs": [
        {
          "output_type": "stream",
          "text": [
            "Using TensorFlow backend.\n"
          ],
          "name": "stderr"
        }
      ]
    },
    {
      "cell_type": "code",
      "metadata": {
        "id": "Czbv5jSgrst4",
        "colab_type": "code",
        "colab": {}
      },
      "source": [
        "RATING_DATA_GEN_FILE = 'u_gen.data'\n",
        "RATINGS_CSV_FILE = 'u_emb.data'\n",
        "RATINGS_CSV_FILE_NORM = 'u_norm.data'\n",
        "RATINGS_GEN_CSV_FILE = 'u_genr.data'\n",
        "MODEL_WEIGHTS_FILE = 'u_emb_weights.h5'\n",
        "MODEL_WEIGHTS_FILE_CORE = 'u_emb_weights'"
      ],
      "execution_count": null,
      "outputs": []
    },
    {
      "cell_type": "markdown",
      "metadata": {
        "id": "Vd4i_m8Gml7s",
        "colab_type": "text"
      },
      "source": [
        "The user and item id for embedding should start from 0. Update ids and save to file"
      ]
    },
    {
      "cell_type": "code",
      "metadata": {
        "id": "3NR8BD6wmoDW",
        "colab_type": "code",
        "colab": {
          "base_uri": "https://localhost:8080/",
          "height": 33
        },
        "outputId": "b6446889-bee2-4bfc-f37e-051f875d2dd8"
      },
      "source": [
        "ratings = pd.read_csv('u.data', \n",
        "                    sep='\\t', \n",
        "                    engine='python', \n",
        "                    encoding='latin-1',\n",
        "                    names=['userid', 'movieid', 'rating', 'timestamp'])\n",
        "max_userid = ratings['userid'].drop_duplicates().max()\n",
        "max_movieid = ratings['movieid'].drop_duplicates().max()\n",
        "ratings['user_emb_id'] = ratings['userid'] - 1\n",
        "ratings['movie_emb_id'] = ratings['movieid'] - 1\n",
        "print(str(len(ratings))+' ratings loaded')"
      ],
      "execution_count": null,
      "outputs": [
        {
          "output_type": "stream",
          "text": [
            "100000 ratings loaded\n"
          ],
          "name": "stdout"
        }
      ]
    },
    {
      "cell_type": "code",
      "metadata": {
        "id": "WBQ_CFsbwPMy",
        "colab_type": "code",
        "colab": {
          "base_uri": "https://localhost:8080/",
          "height": 33
        },
        "outputId": "b28fdfa1-9119-45fe-ceca-3280626f3bb0"
      },
      "source": [
        "ratings.to_csv('u_emb.data', \n",
        "               sep='\\t', \n",
        "               header=True, \n",
        "               encoding='latin-1', \n",
        "               columns=['userid', 'movieid', 'rating', 'timestamp', 'user_emb_id', 'movie_emb_id'])\n",
        "print('Saved to u_emb.data')\n",
        "#files.download(RATINGS_CSV_FILE)"
      ],
      "execution_count": null,
      "outputs": [
        {
          "output_type": "stream",
          "text": [
            "Saved to u_emb.data\n"
          ],
          "name": "stdout"
        }
      ]
    },
    {
      "cell_type": "code",
      "metadata": {
        "id": "cY_8wl06wtuX",
        "colab_type": "code",
        "colab": {
          "base_uri": "https://localhost:8080/",
          "height": 50
        },
        "outputId": "b73ef21e-b9d4-42e6-8b51-4ecf94571c0a"
      },
      "source": [
        "max_userid = ratings['userid'].drop_duplicates().max()\n",
        "max_movieid = ratings['movieid'].drop_duplicates().max()\n",
        "ratings['user_emb_id'] = ratings['userid'] - 1\n",
        "ratings['movie_emb_id'] = ratings['movieid'] - 1\n",
        "ratings['rating_norm'] = ratings['rating']  * 0.2\n",
        "print(str(len(ratings))+' ratings loaded')\n",
        "ratings.to_csv(RATINGS_CSV_FILE_NORM, \n",
        "               sep='\\t', \n",
        "               header=True, \n",
        "               encoding='latin-1', \n",
        "               columns=['userid', 'movieid', 'rating', 'timestamp', 'user_emb_id', 'movie_emb_id','rating_norm'])\n",
        "print('Saved to '+RATINGS_CSV_FILE_NORM)"
      ],
      "execution_count": null,
      "outputs": [
        {
          "output_type": "stream",
          "text": [
            "100000 ratings loaded\n",
            "Saved to u_norm.data\n"
          ],
          "name": "stdout"
        }
      ]
    },
    {
      "cell_type": "markdown",
      "metadata": {
        "id": "8IhG4hUkxJf7",
        "colab_type": "text"
      },
      "source": [
        "Load train rating file"
      ]
    },
    {
      "cell_type": "code",
      "metadata": {
        "id": "M7CuNembxFrE",
        "colab_type": "code",
        "colab": {
          "base_uri": "https://localhost:8080/",
          "height": 50
        },
        "outputId": "86368753-c613-4d0b-c4b7-59c77c7fa8ae"
      },
      "source": [
        "#ratings are normalized between 0 to 1\n",
        "ratings_norm = pd.read_csv(RATINGS_CSV_FILE_NORM, \n",
        "                       sep='\\t', \n",
        "                       encoding='latin-1', \n",
        "                       usecols=['userid', 'movieid', 'user_emb_id', 'movie_emb_id', 'rating','rating_norm'])\n",
        "max_userid = ratings_norm['userid'].drop_duplicates().max()\n",
        "max_movieid = ratings_norm['movieid'].drop_duplicates().max()\n",
        "print(str(len(ratings)), 'ratings loaded.')\n",
        "print('users '+str(max_userid)+' items '+str(max_movieid))"
      ],
      "execution_count": null,
      "outputs": [
        {
          "output_type": "stream",
          "text": [
            "100000 ratings loaded.\n",
            "users 943 items 1682\n"
          ],
          "name": "stdout"
        }
      ]
    },
    {
      "cell_type": "markdown",
      "metadata": {
        "id": "J9LCczbQsB8n",
        "colab_type": "text"
      },
      "source": [
        "Prepare inputs to model"
      ]
    },
    {
      "cell_type": "code",
      "metadata": {
        "id": "Ugn4StwqsA39",
        "colab_type": "code",
        "colab": {}
      },
      "source": [
        "Users = ratings['user_emb_id'].values\n",
        "Movies = ratings['movie_emb_id'].values\n",
        "Ratings = ratings['rating'].values\n",
        "Ratings_norm = ratings_norm['rating_norm']"
      ],
      "execution_count": null,
      "outputs": []
    },
    {
      "cell_type": "markdown",
      "metadata": {
        "id": "rORs8n_tpP6H",
        "colab_type": "text"
      },
      "source": [
        "Saved to u_emb.data"
      ]
    },
    {
      "cell_type": "code",
      "metadata": {
        "id": "Xv0dnjIQpQvp",
        "colab_type": "code",
        "colab": {
          "base_uri": "https://localhost:8080/",
          "height": 50
        },
        "outputId": "f7275351-acce-4d3b-efe9-1d039aaf7195"
      },
      "source": [
        "max_userid = ratings['userid'].drop_duplicates().max()\n",
        "max_movieid = ratings['movieid'].drop_duplicates().max()\n",
        "ratings['user_emb_id'] = ratings['userid'] - 1\n",
        "ratings['movie_emb_id'] = ratings['movieid'] - 1\n",
        "ratings['rating_norm'] = ratings['rating']  * 0.2\n",
        "print(str(len(ratings))+' ratings loaded')\n",
        "ratings.to_csv('norm', \n",
        "               sep='\\t', \n",
        "               header=True, \n",
        "               encoding='latin-1', \n",
        "               columns=['userid', 'movieid', 'rating', 'timestamp', 'user_emb_id', 'movie_emb_id','rating_norm'])\n",
        "print('Saved to '+'norm')"
      ],
      "execution_count": null,
      "outputs": [
        {
          "output_type": "stream",
          "text": [
            "100000 ratings loaded\n",
            "Saved to norm\n"
          ],
          "name": "stdout"
        }
      ]
    },
    {
      "cell_type": "markdown",
      "metadata": {
        "id": "8gu0W0JFpAEl",
        "colab_type": "text"
      },
      "source": [
        "Load train rating file"
      ]
    },
    {
      "cell_type": "code",
      "metadata": {
        "id": "CcpUZO9mpGsX",
        "colab_type": "code",
        "colab": {
          "base_uri": "https://localhost:8080/",
          "height": 50
        },
        "outputId": "62a17ed3-1ccc-4785-aed5-91835474753a"
      },
      "source": [
        "#ratings are normalized between 0 to 1\n",
        "ratings_norm = pd.read_csv('norm', \n",
        "                       sep='\\t', \n",
        "                       encoding='latin-1', \n",
        "                       usecols=['userid', 'movieid', 'user_emb_id', 'movie_emb_id', 'rating','rating_norm'])\n",
        "max_userid = ratings_norm['userid'].drop_duplicates().max()\n",
        "max_movieid = ratings_norm['movieid'].drop_duplicates().max()\n",
        "print(str(len(ratings)), 'ratings loaded.')\n",
        "print('users '+str(max_userid)+' items '+str(max_movieid))"
      ],
      "execution_count": null,
      "outputs": [
        {
          "output_type": "stream",
          "text": [
            "100000 ratings loaded.\n",
            "users 943 items 1682\n"
          ],
          "name": "stdout"
        }
      ]
    },
    {
      "cell_type": "markdown",
      "metadata": {
        "id": "yA8aRER6qjok",
        "colab_type": "text"
      },
      "source": [
        "**Define matrix factorization model**"
      ]
    },
    {
      "cell_type": "code",
      "metadata": {
        "id": "RhOGHSzgqkEH",
        "colab_type": "code",
        "colab": {}
      },
      "source": [
        "def get_model(num_users, num_items, latent_dim):\n",
        "    # Input variables\n",
        "    user_input = Input(shape=(1,), dtype='int32', name = 'user_input')\n",
        "    item_input = Input(shape=(1,), dtype='int32', name = 'item_input')\n",
        "\n",
        "    MF_Embedding_User = Embedding(input_dim = num_users, output_dim = latent_dim, name = 'user_embedding', input_length=1)\n",
        "    MF_Embedding_Item = Embedding(input_dim = num_items, output_dim = latent_dim, name = 'item_embedding', input_length=1)   \n",
        "    \n",
        "    # Crucial to flatten an embedding vector!\n",
        "    user_latent = Flatten()(MF_Embedding_User(user_input))\n",
        "    item_latent = Flatten()(MF_Embedding_Item(item_input))\n",
        "    \n",
        "    # Element-wise product of user and item embeddings\n",
        "    #prediction = merge([user_latent, item_latent], mode = 'dot')\n",
        "    prediction = keras.layers.dot([user_latent,item_latent], axes=1,normalize=False)\n",
        "    \n",
        "    \n",
        "    model = Model(input=[user_input, item_input], output=prediction)\n",
        "\n",
        "    return model\n"
      ],
      "execution_count": null,
      "outputs": []
    },
    {
      "cell_type": "markdown",
      "metadata": {
        "id": "7zy5ReArrLfS",
        "colab_type": "text"
      },
      "source": [
        "**Define generalized matrix factorization model**"
      ]
    },
    {
      "cell_type": "code",
      "metadata": {
        "id": "aa7XdIcqrLyg",
        "colab_type": "code",
        "colab": {}
      },
      "source": [
        "def get_gmf_model(num_users, num_items, latent_dim,do):\n",
        "    # Input variables\n",
        "    user_input = Input(shape=(1,), dtype='int32', name = 'user_input')\n",
        "    item_input = Input(shape=(1,), dtype='int32', name = 'item_input')\n",
        "\n",
        "    MF_Embedding_User = Embedding(input_dim = num_users, output_dim = latent_dim, name = 'user_embedding', input_length=1)\n",
        "    MF_Embedding_Item = Embedding(input_dim = num_items, output_dim = latent_dim, name = 'item_embedding', input_length=1)   \n",
        "    \n",
        "    # Crucial to flatten an embedding vector!\n",
        "    user_latent = Flatten()(MF_Embedding_User(user_input))\n",
        "    item_latent = Flatten()(MF_Embedding_Item(item_input))\n",
        "    \n",
        "    # Element-wise product of user and item embeddings\n",
        "    hidden1 = Multiply()([user_latent, item_latent])\n",
        "    drop = Dropout(do)(hidden1)\n",
        "    prediction = Dense(1, activation=activation_param, kernel_initializer='lecun_uniform', name = 'prediction')(drop)\n",
        "    \n",
        "    \n",
        "    model = Model(input=[user_input, item_input], output=prediction)\n",
        "    \n",
        "    print(\"gmf model: \")\n",
        "    model.summary()\n",
        "\n",
        "    return model"
      ],
      "execution_count": null,
      "outputs": []
    },
    {
      "cell_type": "markdown",
      "metadata": {
        "id": "Jbs5yROWqwiB",
        "colab_type": "text"
      },
      "source": [
        "**Define neural collaborative filtering model**"
      ]
    },
    {
      "cell_type": "code",
      "metadata": {
        "id": "M3VhmacCqv8O",
        "colab_type": "code",
        "colab": {}
      },
      "source": [
        "def get_ncf_model(num_users, num_items, latent_dim,hidden_dim,do, activation_param):\n",
        "    # Input variables\n",
        "    user_input = Input(shape=(1,), dtype='int32', name = 'user_input')\n",
        "    item_input = Input(shape=(1,), dtype='int32', name = 'item_input')\n",
        "\n",
        "    MF_Embedding_User = Embedding(input_dim = num_users, output_dim = latent_dim, name = 'user_embedding', input_length=1)\n",
        "    MF_Embedding_Item = Embedding(input_dim = num_items, output_dim = latent_dim, name = 'item_embedding', input_length=1)   \n",
        "    \n",
        "    # Crucial to flatten an embedding vector!\n",
        "    user_latent = Flatten()(MF_Embedding_User(user_input))\n",
        "    item_latent = Flatten()(MF_Embedding_Item(item_input))\n",
        "    \n",
        "    # Element-wise product of user and item embeddings\n",
        "    conc = Concatenate()([user_latent, item_latent])\n",
        "    drop = Dropout(0.5)(conc)\n",
        "    hid1 = Dense(hidden_dim, activation=activation_param)(conc)\n",
        "    drop2  = Dropout(do)(hid1)\n",
        "    prediction = Dense(1, activation=activation_param, kernel_initializer='lecun_uniform', name = 'prediction')(drop2)\n",
        "    \n",
        "    \n",
        "    model = Model(input=[user_input, item_input], output=prediction)\n",
        "    print(\"ncf model\")\n",
        "    model.summary()\n",
        "\n",
        "    return model"
      ],
      "execution_count": null,
      "outputs": []
    },
    {
      "cell_type": "markdown",
      "metadata": {
        "id": "Y_AjXwEcavqn",
        "colab_type": "text"
      },
      "source": [
        "**~Neural Collaborative Filtering - Implementation with Keras**\n"
      ]
    },
    {
      "cell_type": "markdown",
      "metadata": {
        "id": "kdRRtcZEJg0H",
        "colab_type": "text"
      },
      "source": [
        "Define embedding size and compile model for 1 hidden dimension"
      ]
    },
    {
      "cell_type": "code",
      "metadata": {
        "id": "CdbxtQEeJrNT",
        "colab_type": "code",
        "colab": {
          "base_uri": "https://localhost:8080/",
          "height": 533
        },
        "outputId": "e7d06196-2a7d-4706-cd74-9ff8a0cd6d53"
      },
      "source": [
        "K_LATENT = 20\n",
        "hidden_dim = 1\n",
        "do = 0.5\n",
        "NCF_model = get_ncf_model(max_userid,max_movieid,K_LATENT,hidden_dim,do,'relu')\n",
        "NCF_model.compile(loss='mse',optimizer=Adamax(),metrics=['mae'])"
      ],
      "execution_count": null,
      "outputs": [
        {
          "output_type": "stream",
          "text": [
            "ncf model\n",
            "Model: \"model_1\"\n",
            "__________________________________________________________________________________________________\n",
            "Layer (type)                    Output Shape         Param #     Connected to                     \n",
            "==================================================================================================\n",
            "user_input (InputLayer)         (None, 1)            0                                            \n",
            "__________________________________________________________________________________________________\n",
            "item_input (InputLayer)         (None, 1)            0                                            \n",
            "__________________________________________________________________________________________________\n",
            "user_embedding (Embedding)      (None, 1, 20)        18860       user_input[0][0]                 \n",
            "__________________________________________________________________________________________________\n",
            "item_embedding (Embedding)      (None, 1, 20)        33640       item_input[0][0]                 \n",
            "__________________________________________________________________________________________________\n",
            "flatten_1 (Flatten)             (None, 20)           0           user_embedding[0][0]             \n",
            "__________________________________________________________________________________________________\n",
            "flatten_2 (Flatten)             (None, 20)           0           item_embedding[0][0]             \n",
            "__________________________________________________________________________________________________\n",
            "concatenate_1 (Concatenate)     (None, 40)           0           flatten_1[0][0]                  \n",
            "                                                                 flatten_2[0][0]                  \n",
            "__________________________________________________________________________________________________\n",
            "dense_1 (Dense)                 (None, 1)            41          concatenate_1[0][0]              \n",
            "__________________________________________________________________________________________________\n",
            "dropout_2 (Dropout)             (None, 1)            0           dense_1[0][0]                    \n",
            "__________________________________________________________________________________________________\n",
            "prediction (Dense)              (None, 1)            2           dropout_2[0][0]                  \n",
            "==================================================================================================\n",
            "Total params: 52,543\n",
            "Trainable params: 52,543\n",
            "Non-trainable params: 0\n",
            "__________________________________________________________________________________________________\n"
          ],
          "name": "stdout"
        },
        {
          "output_type": "stream",
          "text": [
            "/usr/local/lib/python3.6/dist-packages/ipykernel_launcher.py:21: UserWarning: Update your `Model` call to the Keras 2 API: `Model(inputs=[<tf.Tenso..., outputs=Tensor(\"pr...)`\n"
          ],
          "name": "stderr"
        }
      ]
    },
    {
      "cell_type": "code",
      "metadata": {
        "id": "NCOIQnOeyjXC",
        "colab_type": "code",
        "colab": {
          "base_uri": "https://localhost:8080/",
          "height": 420
        },
        "outputId": "dd92a1f0-e353-4cf5-8d9c-5bf9b11e9db6"
      },
      "source": [
        "callbacks_ncf = [EarlyStopping('val_loss', patience=5), \n",
        "             ModelCheckpoint(MODEL_WEIGHTS_FILE_CORE+'_ncf_'+str(do)+'_'+str(K_LATENT)+'_'+str(hidden_dim)+'.h5', save_best_only=True)]\n",
        "history_history_ncf = NCF_model.fit([Users, Movies], Ratings, nb_epoch=100, validation_split=.1, verbose=1, callbacks=callbacks_ncf, batch_size = 32)"
      ],
      "execution_count": null,
      "outputs": [
        {
          "output_type": "stream",
          "text": [
            "/usr/local/lib/python3.6/dist-packages/ipykernel_launcher.py:3: UserWarning: The `nb_epoch` argument in `fit` has been renamed `epochs`.\n",
            "  This is separate from the ipykernel package so we can avoid doing imports until\n",
            "/usr/local/lib/python3.6/dist-packages/tensorflow_core/python/framework/indexed_slices.py:424: UserWarning: Converting sparse IndexedSlices to a dense Tensor of unknown shape. This may consume a large amount of memory.\n",
            "  \"Converting sparse IndexedSlices to a dense Tensor of unknown shape. \"\n"
          ],
          "name": "stderr"
        },
        {
          "output_type": "stream",
          "text": [
            "Train on 90000 samples, validate on 10000 samples\n",
            "Epoch 1/100\n",
            "90000/90000 [==============================] - 5s 53us/step - loss: 3.4844 - mae: 1.4715 - val_loss: 1.1222 - val_mae: 0.8809\n",
            "Epoch 2/100\n",
            "90000/90000 [==============================] - 5s 54us/step - loss: 1.1786 - mae: 0.8884 - val_loss: 1.1138 - val_mae: 0.8758\n",
            "Epoch 3/100\n",
            "90000/90000 [==============================] - 5s 51us/step - loss: 1.1683 - mae: 0.8857 - val_loss: 1.1100 - val_mae: 0.8736\n",
            "Epoch 4/100\n",
            "90000/90000 [==============================] - 4s 50us/step - loss: 1.1667 - mae: 0.8854 - val_loss: 1.0973 - val_mae: 0.8639\n",
            "Epoch 5/100\n",
            "90000/90000 [==============================] - 4s 50us/step - loss: 1.1616 - mae: 0.8820 - val_loss: 1.1011 - val_mae: 0.8668\n",
            "Epoch 6/100\n",
            "90000/90000 [==============================] - 4s 50us/step - loss: 1.1619 - mae: 0.8823 - val_loss: 1.0984 - val_mae: 0.8659\n",
            "Epoch 7/100\n",
            "90000/90000 [==============================] - 5s 50us/step - loss: 1.1614 - mae: 0.8821 - val_loss: 1.1078 - val_mae: 0.8708\n",
            "Epoch 8/100\n",
            "90000/90000 [==============================] - 4s 49us/step - loss: 1.1583 - mae: 0.8802 - val_loss: 1.1011 - val_mae: 0.8677\n",
            "Epoch 9/100\n",
            "90000/90000 [==============================] - 4s 50us/step - loss: 1.1590 - mae: 0.8809 - val_loss: 1.1038 - val_mae: 0.8697\n"
          ],
          "name": "stdout"
        }
      ]
    },
    {
      "cell_type": "markdown",
      "metadata": {
        "id": "Ol6HS2t1rwEM",
        "colab_type": "text"
      },
      "source": [
        "**Option 1 for nerual collaborative**"
      ]
    },
    {
      "cell_type": "code",
      "metadata": {
        "id": "PNrpm7kEsGsv",
        "colab_type": "code",
        "colab": {
          "base_uri": "https://localhost:8080/",
          "height": 533
        },
        "outputId": "286826a8-1beb-4863-923c-b3b6f1554de6"
      },
      "source": [
        "K_LATENT = 20\n",
        "hidden_dim = 10\n",
        "do = 0.5\n",
        "NCF_model_1 = get_ncf_model(max_userid,max_movieid,K_LATENT,hidden_dim,do,'relu')\n",
        "NCF_model_1.compile(loss='cosine_similarity' ,optimizer=Adagrad(),metrics=['mae'])"
      ],
      "execution_count": null,
      "outputs": [
        {
          "output_type": "stream",
          "text": [
            "ncf model\n",
            "Model: \"model_3\"\n",
            "__________________________________________________________________________________________________\n",
            "Layer (type)                    Output Shape         Param #     Connected to                     \n",
            "==================================================================================================\n",
            "user_input (InputLayer)         (None, 1)            0                                            \n",
            "__________________________________________________________________________________________________\n",
            "item_input (InputLayer)         (None, 1)            0                                            \n",
            "__________________________________________________________________________________________________\n",
            "user_embedding (Embedding)      (None, 1, 20)        18860       user_input[0][0]                 \n",
            "__________________________________________________________________________________________________\n",
            "item_embedding (Embedding)      (None, 1, 20)        33640       item_input[0][0]                 \n",
            "__________________________________________________________________________________________________\n",
            "flatten_5 (Flatten)             (None, 20)           0           user_embedding[0][0]             \n",
            "__________________________________________________________________________________________________\n",
            "flatten_6 (Flatten)             (None, 20)           0           item_embedding[0][0]             \n",
            "__________________________________________________________________________________________________\n",
            "concatenate_3 (Concatenate)     (None, 40)           0           flatten_5[0][0]                  \n",
            "                                                                 flatten_6[0][0]                  \n",
            "__________________________________________________________________________________________________\n",
            "dense_3 (Dense)                 (None, 10)           410         concatenate_3[0][0]              \n",
            "__________________________________________________________________________________________________\n",
            "dropout_6 (Dropout)             (None, 10)           0           dense_3[0][0]                    \n",
            "__________________________________________________________________________________________________\n",
            "prediction (Dense)              (None, 1)            11          dropout_6[0][0]                  \n",
            "==================================================================================================\n",
            "Total params: 52,921\n",
            "Trainable params: 52,921\n",
            "Non-trainable params: 0\n",
            "__________________________________________________________________________________________________\n"
          ],
          "name": "stdout"
        },
        {
          "output_type": "stream",
          "text": [
            "/usr/local/lib/python3.6/dist-packages/ipykernel_launcher.py:21: UserWarning: Update your `Model` call to the Keras 2 API: `Model(inputs=[<tf.Tenso..., outputs=Tensor(\"pr...)`\n"
          ],
          "name": "stderr"
        }
      ]
    },
    {
      "cell_type": "code",
      "metadata": {
        "id": "OuRrdWEswyM0",
        "colab_type": "code",
        "colab": {
          "base_uri": "https://localhost:8080/",
          "height": 453
        },
        "outputId": "a3a8bf7d-5a0e-4a69-dbe0-66336dc23e0f"
      },
      "source": [
        "callbacks_ncf = [EarlyStopping('val_loss', patience=5), \n",
        "             ModelCheckpoint(MODEL_WEIGHTS_FILE_CORE+'_ncf_'+str(do)+'_'+str(K_LATENT)+'_'+str(hidden_dim)+'.h5', save_best_only=True)]\n",
        "history_history_ncf = NCF_model_1.fit([Users, Movies], Ratings, nb_epoch=100, validation_split=.1, verbose=1, callbacks=callbacks_ncf, batch_size = 32)"
      ],
      "execution_count": null,
      "outputs": [
        {
          "output_type": "stream",
          "text": [
            "/usr/local/lib/python3.6/dist-packages/ipykernel_launcher.py:3: UserWarning: The `nb_epoch` argument in `fit` has been renamed `epochs`.\n",
            "  This is separate from the ipykernel package so we can avoid doing imports until\n",
            "/usr/local/lib/python3.6/dist-packages/tensorflow_core/python/framework/indexed_slices.py:424: UserWarning: Converting sparse IndexedSlices to a dense Tensor of unknown shape. This may consume a large amount of memory.\n",
            "  \"Converting sparse IndexedSlices to a dense Tensor of unknown shape. \"\n"
          ],
          "name": "stderr"
        },
        {
          "output_type": "stream",
          "text": [
            "Train on 90000 samples, validate on 10000 samples\n",
            "Epoch 1/100\n",
            "90000/90000 [==============================] - 5s 58us/step - loss: -0.9991 - mae: 2.7756 - val_loss: -1.0000 - val_mae: 2.2114\n",
            "Epoch 2/100\n",
            "90000/90000 [==============================] - 5s 59us/step - loss: -1.0000 - mae: 1.8431 - val_loss: -1.0000 - val_mae: 1.4056\n",
            "Epoch 3/100\n",
            "90000/90000 [==============================] - 5s 54us/step - loss: -1.0000 - mae: 1.4491 - val_loss: -1.0000 - val_mae: 0.9508\n",
            "Epoch 4/100\n",
            "90000/90000 [==============================] - 5s 51us/step - loss: -1.0000 - mae: 1.6583 - val_loss: -1.0000 - val_mae: 1.1216\n",
            "Epoch 5/100\n",
            "90000/90000 [==============================] - 5s 51us/step - loss: -1.0000 - mae: 2.1619 - val_loss: -1.0000 - val_mae: 1.8204\n",
            "Epoch 6/100\n",
            "90000/90000 [==============================] - 5s 51us/step - loss: -1.0000 - mae: 3.0145 - val_loss: -1.0000 - val_mae: 2.8960\n",
            "Epoch 7/100\n",
            "90000/90000 [==============================] - 5s 51us/step - loss: -1.0000 - mae: 3.9686 - val_loss: -1.0000 - val_mae: 4.0448\n",
            "Epoch 8/100\n",
            "90000/90000 [==============================] - 5s 50us/step - loss: -1.0000 - mae: 4.9907 - val_loss: -1.0000 - val_mae: 5.0146\n",
            "Epoch 9/100\n",
            "90000/90000 [==============================] - 5s 51us/step - loss: -1.0000 - mae: 5.8379 - val_loss: -1.0000 - val_mae: 5.8925\n",
            "Epoch 10/100\n",
            "90000/90000 [==============================] - 5s 51us/step - loss: -1.0000 - mae: 6.7922 - val_loss: -1.0000 - val_mae: 7.0015\n"
          ],
          "name": "stdout"
        }
      ]
    },
    {
      "cell_type": "markdown",
      "metadata": {
        "id": "Vv-Ni7BssBXq",
        "colab_type": "text"
      },
      "source": [
        "**Option 2 for nerual collaborative**"
      ]
    },
    {
      "cell_type": "code",
      "metadata": {
        "id": "xCWUUIG2sHRy",
        "colab_type": "code",
        "colab": {
          "base_uri": "https://localhost:8080/",
          "height": 533
        },
        "outputId": "91d27cf7-46a7-4f4a-f754-0bb1cdc9cf0d"
      },
      "source": [
        "K_LATENT = 20\n",
        "hidden_dim = 20\n",
        "do = 0.3\n",
        "NCF_model_2 = get_ncf_model(max_userid,max_movieid,K_LATENT,hidden_dim,do,'softmax')\n",
        "NCF_model_2.compile(loss='binary_crossentropy',optimizer=SGD(),metrics=['mae'])"
      ],
      "execution_count": null,
      "outputs": [
        {
          "output_type": "stream",
          "text": [
            "ncf model\n",
            "Model: \"model_4\"\n",
            "__________________________________________________________________________________________________\n",
            "Layer (type)                    Output Shape         Param #     Connected to                     \n",
            "==================================================================================================\n",
            "user_input (InputLayer)         (None, 1)            0                                            \n",
            "__________________________________________________________________________________________________\n",
            "item_input (InputLayer)         (None, 1)            0                                            \n",
            "__________________________________________________________________________________________________\n",
            "user_embedding (Embedding)      (None, 1, 20)        18860       user_input[0][0]                 \n",
            "__________________________________________________________________________________________________\n",
            "item_embedding (Embedding)      (None, 1, 20)        33640       item_input[0][0]                 \n",
            "__________________________________________________________________________________________________\n",
            "flatten_7 (Flatten)             (None, 20)           0           user_embedding[0][0]             \n",
            "__________________________________________________________________________________________________\n",
            "flatten_8 (Flatten)             (None, 20)           0           item_embedding[0][0]             \n",
            "__________________________________________________________________________________________________\n",
            "concatenate_4 (Concatenate)     (None, 40)           0           flatten_7[0][0]                  \n",
            "                                                                 flatten_8[0][0]                  \n",
            "__________________________________________________________________________________________________\n",
            "dense_4 (Dense)                 (None, 20)           820         concatenate_4[0][0]              \n",
            "__________________________________________________________________________________________________\n",
            "dropout_8 (Dropout)             (None, 20)           0           dense_4[0][0]                    \n",
            "__________________________________________________________________________________________________\n",
            "prediction (Dense)              (None, 1)            21          dropout_8[0][0]                  \n",
            "==================================================================================================\n",
            "Total params: 53,341\n",
            "Trainable params: 53,341\n",
            "Non-trainable params: 0\n",
            "__________________________________________________________________________________________________\n"
          ],
          "name": "stdout"
        },
        {
          "output_type": "stream",
          "text": [
            "/usr/local/lib/python3.6/dist-packages/ipykernel_launcher.py:21: UserWarning: Update your `Model` call to the Keras 2 API: `Model(inputs=[<tf.Tenso..., outputs=Tensor(\"pr...)`\n"
          ],
          "name": "stderr"
        }
      ]
    },
    {
      "cell_type": "code",
      "metadata": {
        "id": "6zU-2vBdyz4Q",
        "colab_type": "code",
        "colab": {
          "base_uri": "https://localhost:8080/",
          "height": 320
        },
        "outputId": "1d22273c-4943-42de-dbc1-589a44165073"
      },
      "source": [
        "callbacks_ncf = [EarlyStopping('val_loss', patience=5), \n",
        "             ModelCheckpoint(MODEL_WEIGHTS_FILE_CORE+'_ncf_'+str(do)+'_'+str(K_LATENT)+'_'+str(hidden_dim)+'.h5', save_best_only=True)]\n",
        "history_history_ncf = NCF_model_2.fit([Users, Movies], Ratings, nb_epoch=100, validation_split=.1, verbose=1, callbacks=callbacks_ncf, batch_size = 32)"
      ],
      "execution_count": null,
      "outputs": [
        {
          "output_type": "stream",
          "text": [
            "/usr/local/lib/python3.6/dist-packages/ipykernel_launcher.py:3: UserWarning: The `nb_epoch` argument in `fit` has been renamed `epochs`.\n",
            "  This is separate from the ipykernel package so we can avoid doing imports until\n",
            "/usr/local/lib/python3.6/dist-packages/tensorflow_core/python/framework/indexed_slices.py:424: UserWarning: Converting sparse IndexedSlices to a dense Tensor of unknown shape. This may consume a large amount of memory.\n",
            "  \"Converting sparse IndexedSlices to a dense Tensor of unknown shape. \"\n"
          ],
          "name": "stderr"
        },
        {
          "output_type": "stream",
          "text": [
            "Train on 90000 samples, validate on 10000 samples\n",
            "Epoch 1/100\n",
            "90000/90000 [==============================] - 5s 53us/step - loss: -38.7914 - mae: 2.5299 - val_loss: -38.7870 - val_mae: 2.5296\n",
            "Epoch 2/100\n",
            "90000/90000 [==============================] - 5s 51us/step - loss: -38.7914 - mae: 2.5299 - val_loss: -38.7870 - val_mae: 2.5296\n",
            "Epoch 3/100\n",
            "90000/90000 [==============================] - 5s 52us/step - loss: -38.7914 - mae: 2.5299 - val_loss: -38.7870 - val_mae: 2.5296\n",
            "Epoch 4/100\n",
            "90000/90000 [==============================] - 5s 51us/step - loss: -38.7914 - mae: 2.5299 - val_loss: -38.7870 - val_mae: 2.5296\n",
            "Epoch 5/100\n",
            "90000/90000 [==============================] - 5s 51us/step - loss: -38.7914 - mae: 2.5299 - val_loss: -38.7870 - val_mae: 2.5296\n",
            "Epoch 6/100\n",
            "90000/90000 [==============================] - 5s 51us/step - loss: -38.7914 - mae: 2.5299 - val_loss: -38.7870 - val_mae: 2.5296\n"
          ],
          "name": "stdout"
        }
      ]
    },
    {
      "cell_type": "markdown",
      "metadata": {
        "id": "a56cGRBQsCCc",
        "colab_type": "text"
      },
      "source": [
        "**Option 3 for nerual collaborative**"
      ]
    },
    {
      "cell_type": "code",
      "metadata": {
        "id": "rcO__qqYsH9l",
        "colab_type": "code",
        "colab": {
          "base_uri": "https://localhost:8080/",
          "height": 533
        },
        "outputId": "dc70d1ff-daf3-46dd-9f86-d8fb3e26d8de"
      },
      "source": [
        "K_LATENT = 30\n",
        "hidden_dim = 30\n",
        "do = 0.5\n",
        "NCF_model_3 = get_ncf_model(max_userid,max_movieid,K_LATENT,hidden_dim,do,'selu')\n",
        "NCF_model_3.compile(loss='mse',optimizer=Adam(),metrics=['mae'])"
      ],
      "execution_count": null,
      "outputs": [
        {
          "output_type": "stream",
          "text": [
            "ncf model\n",
            "Model: \"model_5\"\n",
            "__________________________________________________________________________________________________\n",
            "Layer (type)                    Output Shape         Param #     Connected to                     \n",
            "==================================================================================================\n",
            "user_input (InputLayer)         (None, 1)            0                                            \n",
            "__________________________________________________________________________________________________\n",
            "item_input (InputLayer)         (None, 1)            0                                            \n",
            "__________________________________________________________________________________________________\n",
            "user_embedding (Embedding)      (None, 1, 30)        28290       user_input[0][0]                 \n",
            "__________________________________________________________________________________________________\n",
            "item_embedding (Embedding)      (None, 1, 30)        50460       item_input[0][0]                 \n",
            "__________________________________________________________________________________________________\n",
            "flatten_9 (Flatten)             (None, 30)           0           user_embedding[0][0]             \n",
            "__________________________________________________________________________________________________\n",
            "flatten_10 (Flatten)            (None, 30)           0           item_embedding[0][0]             \n",
            "__________________________________________________________________________________________________\n",
            "concatenate_5 (Concatenate)     (None, 60)           0           flatten_9[0][0]                  \n",
            "                                                                 flatten_10[0][0]                 \n",
            "__________________________________________________________________________________________________\n",
            "dense_5 (Dense)                 (None, 30)           1830        concatenate_5[0][0]              \n",
            "__________________________________________________________________________________________________\n",
            "dropout_10 (Dropout)            (None, 30)           0           dense_5[0][0]                    \n",
            "__________________________________________________________________________________________________\n",
            "prediction (Dense)              (None, 1)            31          dropout_10[0][0]                 \n",
            "==================================================================================================\n",
            "Total params: 80,611\n",
            "Trainable params: 80,611\n",
            "Non-trainable params: 0\n",
            "__________________________________________________________________________________________________\n"
          ],
          "name": "stdout"
        },
        {
          "output_type": "stream",
          "text": [
            "/usr/local/lib/python3.6/dist-packages/ipykernel_launcher.py:21: UserWarning: Update your `Model` call to the Keras 2 API: `Model(inputs=[<tf.Tenso..., outputs=Tensor(\"pr...)`\n"
          ],
          "name": "stderr"
        }
      ]
    },
    {
      "cell_type": "code",
      "metadata": {
        "id": "l7-sPVozy1zj",
        "colab_type": "code",
        "colab": {
          "base_uri": "https://localhost:8080/",
          "height": 1000
        },
        "outputId": "af607fd3-e55b-4274-801e-f4a25c5e4a00"
      },
      "source": [
        "callbacks_ncf = [EarlyStopping('val_loss', patience=5), \n",
        "             ModelCheckpoint(MODEL_WEIGHTS_FILE_CORE+'_ncf_'+str(do)+'_'+str(K_LATENT)+'_'+str(hidden_dim)+'.h5', save_best_only=True)]\n",
        "history_history_ncf = NCF_model_3.fit([Users, Movies], Ratings, nb_epoch=100, validation_split=.1, verbose=1, callbacks=callbacks_ncf, batch_size = 32)"
      ],
      "execution_count": null,
      "outputs": [
        {
          "output_type": "stream",
          "text": [
            "/usr/local/lib/python3.6/dist-packages/ipykernel_launcher.py:3: UserWarning: The `nb_epoch` argument in `fit` has been renamed `epochs`.\n",
            "  This is separate from the ipykernel package so we can avoid doing imports until\n",
            "/usr/local/lib/python3.6/dist-packages/tensorflow_core/python/framework/indexed_slices.py:424: UserWarning: Converting sparse IndexedSlices to a dense Tensor of unknown shape. This may consume a large amount of memory.\n",
            "  \"Converting sparse IndexedSlices to a dense Tensor of unknown shape. \"\n"
          ],
          "name": "stderr"
        },
        {
          "output_type": "stream",
          "text": [
            "Train on 90000 samples, validate on 10000 samples\n",
            "Epoch 1/100\n",
            "90000/90000 [==============================] - 6s 69us/step - loss: 1.6564 - mae: 1.0040 - val_loss: 0.9357 - val_mae: 0.7799\n",
            "Epoch 2/100\n",
            "90000/90000 [==============================] - 6s 66us/step - loss: 1.1188 - mae: 0.8472 - val_loss: 0.9060 - val_mae: 0.7612\n",
            "Epoch 3/100\n",
            "90000/90000 [==============================] - 6s 68us/step - loss: 0.9894 - mae: 0.7932 - val_loss: 0.8970 - val_mae: 0.7565\n",
            "Epoch 4/100\n",
            "90000/90000 [==============================] - 6s 67us/step - loss: 0.9226 - mae: 0.7651 - val_loss: 0.8866 - val_mae: 0.7463\n",
            "Epoch 5/100\n",
            "90000/90000 [==============================] - 6s 67us/step - loss: 0.8987 - mae: 0.7537 - val_loss: 0.8872 - val_mae: 0.7490\n",
            "Epoch 6/100\n",
            "90000/90000 [==============================] - 6s 65us/step - loss: 0.8857 - mae: 0.7463 - val_loss: 0.8832 - val_mae: 0.7471\n",
            "Epoch 7/100\n",
            "90000/90000 [==============================] - 6s 66us/step - loss: 0.8806 - mae: 0.7436 - val_loss: 0.8821 - val_mae: 0.7456\n",
            "Epoch 8/100\n",
            "90000/90000 [==============================] - 6s 66us/step - loss: 0.8751 - mae: 0.7405 - val_loss: 0.8848 - val_mae: 0.7504\n",
            "Epoch 9/100\n",
            "90000/90000 [==============================] - 6s 68us/step - loss: 0.8732 - mae: 0.7396 - val_loss: 0.8835 - val_mae: 0.7488\n",
            "Epoch 10/100\n",
            "90000/90000 [==============================] - 6s 67us/step - loss: 0.8701 - mae: 0.7382 - val_loss: 0.8809 - val_mae: 0.7419\n",
            "Epoch 11/100\n",
            "90000/90000 [==============================] - 6s 67us/step - loss: 0.8690 - mae: 0.7375 - val_loss: 0.8794 - val_mae: 0.7430\n",
            "Epoch 12/100\n",
            "90000/90000 [==============================] - 6s 67us/step - loss: 0.8664 - mae: 0.7364 - val_loss: 0.8792 - val_mae: 0.7450\n",
            "Epoch 13/100\n",
            "90000/90000 [==============================] - 6s 67us/step - loss: 0.8660 - mae: 0.7355 - val_loss: 0.8817 - val_mae: 0.7445\n",
            "Epoch 14/100\n",
            "90000/90000 [==============================] - 6s 66us/step - loss: 0.8644 - mae: 0.7352 - val_loss: 0.8780 - val_mae: 0.7418\n",
            "Epoch 15/100\n",
            "90000/90000 [==============================] - 6s 66us/step - loss: 0.8637 - mae: 0.7353 - val_loss: 0.8777 - val_mae: 0.7409\n",
            "Epoch 16/100\n",
            "90000/90000 [==============================] - 6s 66us/step - loss: 0.8618 - mae: 0.7331 - val_loss: 0.8752 - val_mae: 0.7393\n",
            "Epoch 17/100\n",
            "90000/90000 [==============================] - 6s 65us/step - loss: 0.8598 - mae: 0.7326 - val_loss: 0.8780 - val_mae: 0.7443\n",
            "Epoch 18/100\n",
            "90000/90000 [==============================] - 6s 66us/step - loss: 0.8597 - mae: 0.7323 - val_loss: 0.8795 - val_mae: 0.7486\n",
            "Epoch 19/100\n",
            "90000/90000 [==============================] - 6s 67us/step - loss: 0.8569 - mae: 0.7311 - val_loss: 0.8704 - val_mae: 0.7367\n",
            "Epoch 20/100\n",
            "90000/90000 [==============================] - 6s 67us/step - loss: 0.8546 - mae: 0.7295 - val_loss: 0.8701 - val_mae: 0.7402\n",
            "Epoch 21/100\n",
            "90000/90000 [==============================] - 6s 65us/step - loss: 0.8536 - mae: 0.7290 - val_loss: 0.8679 - val_mae: 0.7349\n",
            "Epoch 22/100\n",
            "90000/90000 [==============================] - 6s 67us/step - loss: 0.8493 - mae: 0.7266 - val_loss: 0.8636 - val_mae: 0.7342\n",
            "Epoch 23/100\n",
            "90000/90000 [==============================] - 6s 67us/step - loss: 0.8468 - mae: 0.7253 - val_loss: 0.8633 - val_mae: 0.7336\n",
            "Epoch 24/100\n",
            "90000/90000 [==============================] - 6s 69us/step - loss: 0.8427 - mae: 0.7238 - val_loss: 0.8626 - val_mae: 0.7326\n",
            "Epoch 25/100\n",
            "90000/90000 [==============================] - 6s 68us/step - loss: 0.8406 - mae: 0.7227 - val_loss: 0.8597 - val_mae: 0.7331\n",
            "Epoch 26/100\n",
            "90000/90000 [==============================] - 6s 67us/step - loss: 0.8368 - mae: 0.7214 - val_loss: 0.8575 - val_mae: 0.7336\n",
            "Epoch 27/100\n",
            "90000/90000 [==============================] - 6s 67us/step - loss: 0.8347 - mae: 0.7202 - val_loss: 0.8578 - val_mae: 0.7271\n",
            "Epoch 28/100\n",
            "90000/90000 [==============================] - 6s 69us/step - loss: 0.8335 - mae: 0.7189 - val_loss: 0.8587 - val_mae: 0.7360\n",
            "Epoch 29/100\n",
            "90000/90000 [==============================] - 7s 74us/step - loss: 0.8302 - mae: 0.7176 - val_loss: 0.8579 - val_mae: 0.7385\n",
            "Epoch 30/100\n",
            "90000/90000 [==============================] - 6s 69us/step - loss: 0.8283 - mae: 0.7171 - val_loss: 0.8554 - val_mae: 0.7275\n",
            "Epoch 31/100\n",
            "90000/90000 [==============================] - 6s 66us/step - loss: 0.8275 - mae: 0.7162 - val_loss: 0.8543 - val_mae: 0.7270\n",
            "Epoch 32/100\n",
            "90000/90000 [==============================] - 6s 67us/step - loss: 0.8275 - mae: 0.7164 - val_loss: 0.8533 - val_mae: 0.7330\n",
            "Epoch 33/100\n",
            "90000/90000 [==============================] - 6s 66us/step - loss: 0.8237 - mae: 0.7145 - val_loss: 0.8519 - val_mae: 0.7275\n",
            "Epoch 34/100\n",
            "90000/90000 [==============================] - 6s 66us/step - loss: 0.8224 - mae: 0.7137 - val_loss: 0.8523 - val_mae: 0.7268\n",
            "Epoch 35/100\n",
            "90000/90000 [==============================] - 6s 68us/step - loss: 0.8221 - mae: 0.7136 - val_loss: 0.8516 - val_mae: 0.7259\n",
            "Epoch 36/100\n",
            "90000/90000 [==============================] - 6s 68us/step - loss: 0.8198 - mae: 0.7124 - val_loss: 0.8503 - val_mae: 0.7270\n",
            "Epoch 37/100\n",
            "90000/90000 [==============================] - 6s 67us/step - loss: 0.8202 - mae: 0.7129 - val_loss: 0.8538 - val_mae: 0.7277\n",
            "Epoch 38/100\n",
            "90000/90000 [==============================] - 7s 73us/step - loss: 0.8178 - mae: 0.7120 - val_loss: 0.8547 - val_mae: 0.7272\n",
            "Epoch 39/100\n",
            "90000/90000 [==============================] - 7s 74us/step - loss: 0.8173 - mae: 0.7121 - val_loss: 0.8558 - val_mae: 0.7252\n",
            "Epoch 40/100\n",
            "90000/90000 [==============================] - 6s 65us/step - loss: 0.8131 - mae: 0.7098 - val_loss: 0.8536 - val_mae: 0.7301\n",
            "Epoch 41/100\n",
            "90000/90000 [==============================] - 6s 66us/step - loss: 0.8146 - mae: 0.7105 - val_loss: 0.8525 - val_mae: 0.7284\n"
          ],
          "name": "stdout"
        }
      ]
    },
    {
      "cell_type": "markdown",
      "metadata": {
        "id": "hija6uayAFUx",
        "colab_type": "text"
      },
      "source": [
        "**TASK 4**"
      ]
    },
    {
      "cell_type": "markdown",
      "metadata": {
        "id": "ctLuaHuD5KBK",
        "colab_type": "text"
      },
      "source": [
        "**TASK 5**"
      ]
    },
    {
      "cell_type": "markdown",
      "metadata": {
        "id": "Fk8VVVC6KTjf",
        "colab_type": "text"
      },
      "source": [
        "Before we start with Task5 we shall install the deep CTR Library,\n",
        "\n",
        "I chose to use the CPU version -"
      ]
    },
    {
      "cell_type": "code",
      "metadata": {
        "id": "yromrvVe5OcA",
        "colab_type": "code",
        "colab": {
          "base_uri": "https://localhost:8080/",
          "height": 687
        },
        "outputId": "e0be49c1-01c0-4cae-ccff-ef48f146d068"
      },
      "source": [
        "pip install deepctr[cpu]"
      ],
      "execution_count": null,
      "outputs": [
        {
          "output_type": "stream",
          "text": [
            "Collecting deepctr[cpu]\n",
            "\u001b[?25l  Downloading https://files.pythonhosted.org/packages/4d/84/c3baa57def7778ce2b297cdcb1d1daddc41e608efa2714c1862f3f7c861d/deepctr-0.7.5-py3-none-any.whl (82kB)\n",
            "\r\u001b[K     |████                            | 10kB 20.5MB/s eta 0:00:01\r\u001b[K     |████████                        | 20kB 1.9MB/s eta 0:00:01\r\u001b[K     |████████████                    | 30kB 2.3MB/s eta 0:00:01\r\u001b[K     |████████████████                | 40kB 2.6MB/s eta 0:00:01\r\u001b[K     |████████████████████            | 51kB 2.4MB/s eta 0:00:01\r\u001b[K     |████████████████████████        | 61kB 2.7MB/s eta 0:00:01\r\u001b[K     |████████████████████████████    | 71kB 3.0MB/s eta 0:00:01\r\u001b[K     |████████████████████████████████| 81kB 3.1MB/s eta 0:00:01\r\u001b[K     |████████████████████████████████| 92kB 2.7MB/s \n",
            "\u001b[?25hRequirement already satisfied: requests in /usr/local/lib/python3.6/dist-packages (from deepctr[cpu]) (2.23.0)\n",
            "Requirement already satisfied: h5py in /usr/local/lib/python3.6/dist-packages (from deepctr[cpu]) (2.10.0)\n",
            "Requirement already satisfied: tensorflow!=1.7.*,!=1.8.*,>=1.4.0; extra == \"cpu\" in /usr/local/lib/python3.6/dist-packages (from deepctr[cpu]) (2.0.1)\n",
            "Requirement already satisfied: certifi>=2017.4.17 in /usr/local/lib/python3.6/dist-packages (from requests->deepctr[cpu]) (2020.4.5.1)\n",
            "Requirement already satisfied: idna<3,>=2.5 in /usr/local/lib/python3.6/dist-packages (from requests->deepctr[cpu]) (2.9)\n",
            "Requirement already satisfied: urllib3!=1.25.0,!=1.25.1,<1.26,>=1.21.1 in /usr/local/lib/python3.6/dist-packages (from requests->deepctr[cpu]) (1.24.3)\n",
            "Requirement already satisfied: chardet<4,>=3.0.2 in /usr/local/lib/python3.6/dist-packages (from requests->deepctr[cpu]) (3.0.4)\n",
            "Requirement already satisfied: six in /usr/local/lib/python3.6/dist-packages (from h5py->deepctr[cpu]) (1.12.0)\n",
            "Requirement already satisfied: numpy>=1.7 in /usr/local/lib/python3.6/dist-packages (from h5py->deepctr[cpu]) (1.18.4)\n",
            "Requirement already satisfied: wrapt>=1.11.1 in /usr/local/lib/python3.6/dist-packages (from tensorflow!=1.7.*,!=1.8.*,>=1.4.0; extra == \"cpu\"->deepctr[cpu]) (1.12.1)\n",
            "Requirement already satisfied: absl-py>=0.7.0 in /usr/local/lib/python3.6/dist-packages (from tensorflow!=1.7.*,!=1.8.*,>=1.4.0; extra == \"cpu\"->deepctr[cpu]) (0.9.0)\n",
            "Requirement already satisfied: tensorboard<2.1.0,>=2.0.0 in /usr/local/lib/python3.6/dist-packages (from tensorflow!=1.7.*,!=1.8.*,>=1.4.0; extra == \"cpu\"->deepctr[cpu]) (2.0.2)\n",
            "Requirement already satisfied: grpcio>=1.8.6 in /usr/local/lib/python3.6/dist-packages (from tensorflow!=1.7.*,!=1.8.*,>=1.4.0; extra == \"cpu\"->deepctr[cpu]) (1.28.1)\n",
            "Requirement already satisfied: wheel>=0.26; python_version >= \"3\" in /usr/local/lib/python3.6/dist-packages (from tensorflow!=1.7.*,!=1.8.*,>=1.4.0; extra == \"cpu\"->deepctr[cpu]) (0.34.2)\n",
            "Requirement already satisfied: astor>=0.6.0 in /usr/local/lib/python3.6/dist-packages (from tensorflow!=1.7.*,!=1.8.*,>=1.4.0; extra == \"cpu\"->deepctr[cpu]) (0.8.1)\n",
            "Requirement already satisfied: protobuf>=3.6.1 in /usr/local/lib/python3.6/dist-packages (from tensorflow!=1.7.*,!=1.8.*,>=1.4.0; extra == \"cpu\"->deepctr[cpu]) (3.10.0)\n",
            "Requirement already satisfied: termcolor>=1.1.0 in /usr/local/lib/python3.6/dist-packages (from tensorflow!=1.7.*,!=1.8.*,>=1.4.0; extra == \"cpu\"->deepctr[cpu]) (1.1.0)\n",
            "Requirement already satisfied: keras-applications>=1.0.8 in /usr/local/lib/python3.6/dist-packages (from tensorflow!=1.7.*,!=1.8.*,>=1.4.0; extra == \"cpu\"->deepctr[cpu]) (1.0.8)\n",
            "Requirement already satisfied: opt-einsum>=2.3.2 in /usr/local/lib/python3.6/dist-packages (from tensorflow!=1.7.*,!=1.8.*,>=1.4.0; extra == \"cpu\"->deepctr[cpu]) (3.2.1)\n",
            "Requirement already satisfied: keras-preprocessing>=1.0.5 in /usr/local/lib/python3.6/dist-packages (from tensorflow!=1.7.*,!=1.8.*,>=1.4.0; extra == \"cpu\"->deepctr[cpu]) (1.1.0)\n",
            "Requirement already satisfied: google-pasta>=0.1.6 in /usr/local/lib/python3.6/dist-packages (from tensorflow!=1.7.*,!=1.8.*,>=1.4.0; extra == \"cpu\"->deepctr[cpu]) (0.2.0)\n",
            "Requirement already satisfied: tensorflow-estimator<2.1.0,>=2.0.0 in /usr/local/lib/python3.6/dist-packages (from tensorflow!=1.7.*,!=1.8.*,>=1.4.0; extra == \"cpu\"->deepctr[cpu]) (2.0.1)\n",
            "Requirement already satisfied: gast==0.2.2 in /usr/local/lib/python3.6/dist-packages (from tensorflow!=1.7.*,!=1.8.*,>=1.4.0; extra == \"cpu\"->deepctr[cpu]) (0.2.2)\n",
            "Requirement already satisfied: google-auth-oauthlib<0.5,>=0.4.1 in /usr/local/lib/python3.6/dist-packages (from tensorboard<2.1.0,>=2.0.0->tensorflow!=1.7.*,!=1.8.*,>=1.4.0; extra == \"cpu\"->deepctr[cpu]) (0.4.1)\n",
            "Requirement already satisfied: setuptools>=41.0.0 in /usr/local/lib/python3.6/dist-packages (from tensorboard<2.1.0,>=2.0.0->tensorflow!=1.7.*,!=1.8.*,>=1.4.0; extra == \"cpu\"->deepctr[cpu]) (46.3.0)\n",
            "Requirement already satisfied: werkzeug>=0.11.15 in /usr/local/lib/python3.6/dist-packages (from tensorboard<2.1.0,>=2.0.0->tensorflow!=1.7.*,!=1.8.*,>=1.4.0; extra == \"cpu\"->deepctr[cpu]) (1.0.1)\n",
            "Requirement already satisfied: google-auth<2,>=1.6.3 in /usr/local/lib/python3.6/dist-packages (from tensorboard<2.1.0,>=2.0.0->tensorflow!=1.7.*,!=1.8.*,>=1.4.0; extra == \"cpu\"->deepctr[cpu]) (1.7.2)\n",
            "Requirement already satisfied: markdown>=2.6.8 in /usr/local/lib/python3.6/dist-packages (from tensorboard<2.1.0,>=2.0.0->tensorflow!=1.7.*,!=1.8.*,>=1.4.0; extra == \"cpu\"->deepctr[cpu]) (3.2.1)\n",
            "Requirement already satisfied: requests-oauthlib>=0.7.0 in /usr/local/lib/python3.6/dist-packages (from google-auth-oauthlib<0.5,>=0.4.1->tensorboard<2.1.0,>=2.0.0->tensorflow!=1.7.*,!=1.8.*,>=1.4.0; extra == \"cpu\"->deepctr[cpu]) (1.3.0)\n",
            "Requirement already satisfied: pyasn1-modules>=0.2.1 in /usr/local/lib/python3.6/dist-packages (from google-auth<2,>=1.6.3->tensorboard<2.1.0,>=2.0.0->tensorflow!=1.7.*,!=1.8.*,>=1.4.0; extra == \"cpu\"->deepctr[cpu]) (0.2.8)\n",
            "Requirement already satisfied: cachetools<3.2,>=2.0.0 in /usr/local/lib/python3.6/dist-packages (from google-auth<2,>=1.6.3->tensorboard<2.1.0,>=2.0.0->tensorflow!=1.7.*,!=1.8.*,>=1.4.0; extra == \"cpu\"->deepctr[cpu]) (3.1.1)\n",
            "Requirement already satisfied: rsa<4.1,>=3.1.4 in /usr/local/lib/python3.6/dist-packages (from google-auth<2,>=1.6.3->tensorboard<2.1.0,>=2.0.0->tensorflow!=1.7.*,!=1.8.*,>=1.4.0; extra == \"cpu\"->deepctr[cpu]) (4.0)\n",
            "Requirement already satisfied: oauthlib>=3.0.0 in /usr/local/lib/python3.6/dist-packages (from requests-oauthlib>=0.7.0->google-auth-oauthlib<0.5,>=0.4.1->tensorboard<2.1.0,>=2.0.0->tensorflow!=1.7.*,!=1.8.*,>=1.4.0; extra == \"cpu\"->deepctr[cpu]) (3.1.0)\n",
            "Requirement already satisfied: pyasn1<0.5.0,>=0.4.6 in /usr/local/lib/python3.6/dist-packages (from pyasn1-modules>=0.2.1->google-auth<2,>=1.6.3->tensorboard<2.1.0,>=2.0.0->tensorflow!=1.7.*,!=1.8.*,>=1.4.0; extra == \"cpu\"->deepctr[cpu]) (0.4.8)\n",
            "Installing collected packages: deepctr\n",
            "Successfully installed deepctr-0.7.5\n"
          ],
          "name": "stdout"
        }
      ]
    },
    {
      "cell_type": "markdown",
      "metadata": {
        "id": "5C1CEVyJKZUS",
        "colab_type": "text"
      },
      "source": [
        "We are going to compare between two different models. \n",
        "\n",
        "We decided to try and predict user's ratings by the following user's attributes: \n",
        "\n",
        "                                           Age & Occupation \n",
        "\n",
        "It means, our models are going to calculate the predictions according to users of similiar age and Occupation rather than other attributes.\n",
        "\n",
        "For out first model we are using \"deepFM\":"
      ]
    },
    {
      "cell_type": "code",
      "metadata": {
        "id": "wadzsfwiKdqf",
        "colab_type": "code",
        "colab": {
          "base_uri": "https://localhost:8080/",
          "height": 1000
        },
        "outputId": "dc43d30a-548e-4811-97c1-18fab82f3f8d"
      },
      "source": [
        "from sklearn.metrics import mean_squared_error\n",
        "from sklearn.preprocessing import LabelEncoder, MinMaxScaler\n",
        "from sklearn.model_selection import train_test_split\n",
        "from deepctr.models import DeepFM\n",
        "from deepctr.inputs import  SparseFeat, DenseFeat,get_feature_names\n",
        "\n",
        "#We shall Create a data frame that join user's rating info with his other attributes.\n",
        "#This is our DataFrame:\n",
        "print(data_df)\n",
        "#This is our User_DF contains the user's attributes:\n",
        "print(users_df)\n",
        "#We shall merge it:\n",
        "data = data_df.merge(users_df,on = 'user id').drop(['timestamp'],axis=1).rename(columns={\"movie id\": \"movie_id\", \"user id\": \"user_id\", \"zip code\": \"zip\"})\n",
        "print(data)\n",
        "print(\"*****************************************************************\")\n",
        "\n",
        "sparse_features = [\"movie_id\", \"user_id\",\"age\", \"occupation\"]\n",
        "target = ['rating']\n",
        "\n",
        "# 1.Label Encoding for sparse features,and do simple Transformation for dense features\n",
        "for feat in sparse_features:\n",
        "        lbe = LabelEncoder()\n",
        "        data[feat] = lbe.fit_transform(data[feat])\n",
        "        \n",
        "# 2.count #unique features for each sparse field\n",
        "fixlen_feature_columns = [SparseFeat(feat, data[feat].nunique(),embedding_dim=4) for feat in sparse_features]\n",
        "linear_feature_columns = fixlen_feature_columns\n",
        "dnn_feature_columns = fixlen_feature_columns\n",
        "feature_names = get_feature_names(linear_feature_columns + dnn_feature_columns)\n",
        "\n",
        "# 3.generate input data for model\n",
        "train, test = train_test_split(data, test_size=0.2)\n",
        "train_model_input = {name:train[name].values for name in feature_names}\n",
        "test_model_input = {name:test[name].values for name in feature_names}\n",
        "\n",
        "# 4.Define Model,train,predict and evaluate\n",
        "model = DeepFM(linear_feature_columns, dnn_feature_columns, task='regression')\n",
        "model.compile(\"adam\", \"mse\", metrics=['mse'], )\n",
        "\n",
        "history = model.fit(train_model_input, train[target].values,batch_size=256, epochs=10, verbose=2, validation_split=0.2, )\n",
        "\n",
        "pred_ans = model.predict(test_model_input, batch_size=256)"
      ],
      "execution_count": null,
      "outputs": [
        {
          "output_type": "stream",
          "text": [
            "       user id  movie id  rating  timestamp\n",
            "0          196       242       3  881250949\n",
            "1          186       302       3  891717742\n",
            "2           22       377       1  878887116\n",
            "3          244        51       2  880606923\n",
            "4          166       346       1  886397596\n",
            "...        ...       ...     ...        ...\n",
            "99995      880       476       3  880175444\n",
            "99996      716       204       5  879795543\n",
            "99997      276      1090       1  874795795\n",
            "99998       13       225       2  882399156\n",
            "99999       12       203       3  879959583\n",
            "\n",
            "[97623 rows x 4 columns]\n",
            "     user id  age gender     occupation zip code\n",
            "0          1   24      M     technician    85711\n",
            "1          2   53      F          other    94043\n",
            "2          3   23      M         writer    32067\n",
            "3          4   24      M     technician    43537\n",
            "4          5   33      F          other    15213\n",
            "..       ...  ...    ...            ...      ...\n",
            "938      939   26      F        student    33319\n",
            "939      940   32      M  administrator    02215\n",
            "940      941   20      M        student    97229\n",
            "941      942   48      F      librarian    78209\n",
            "942      943   22      M        student    77841\n",
            "\n",
            "[943 rows x 5 columns]\n",
            "       user_id  movie_id  rating  age gender occupation    zip\n",
            "0          196       242       3   49      M     writer  55105\n",
            "1          196       393       4   49      M     writer  55105\n",
            "2          196       381       4   49      M     writer  55105\n",
            "3          196       251       3   49      M     writer  55105\n",
            "4          196       655       5   49      M     writer  55105\n",
            "...        ...       ...     ...  ...    ...        ...    ...\n",
            "97618      941       919       5   20      M    student  97229\n",
            "97619      941       273       3   20      M    student  97229\n",
            "97620      941         1       5   20      M    student  97229\n",
            "97621      941       294       4   20      M    student  97229\n",
            "97622      941      1007       4   20      M    student  97229\n",
            "\n",
            "[97623 rows x 7 columns]\n",
            "*****************************************************************\n",
            "Train on 62478 samples, validate on 15620 samples\n",
            "Epoch 1/10\n"
          ],
          "name": "stdout"
        },
        {
          "output_type": "stream",
          "text": [
            "/usr/local/lib/python3.6/dist-packages/tensorflow_core/python/framework/indexed_slices.py:424: UserWarning: Converting sparse IndexedSlices to a dense Tensor of unknown shape. This may consume a large amount of memory.\n",
            "  \"Converting sparse IndexedSlices to a dense Tensor of unknown shape. \"\n",
            "/usr/local/lib/python3.6/dist-packages/tensorflow_core/python/framework/indexed_slices.py:424: UserWarning: Converting sparse IndexedSlices to a dense Tensor of unknown shape. This may consume a large amount of memory.\n",
            "  \"Converting sparse IndexedSlices to a dense Tensor of unknown shape. \"\n"
          ],
          "name": "stderr"
        },
        {
          "output_type": "stream",
          "text": [
            "62478/62478 - 3s - loss: 2.3417 - mse: 2.3416 - val_loss: 0.9082 - val_mse: 0.9081\n",
            "Epoch 2/10\n",
            "62478/62478 - 1s - loss: 0.8805 - mse: 0.8804 - val_loss: 0.8942 - val_mse: 0.8941\n",
            "Epoch 3/10\n",
            "62478/62478 - 1s - loss: 0.8687 - mse: 0.8686 - val_loss: 0.9009 - val_mse: 0.9008\n",
            "Epoch 4/10\n",
            "62478/62478 - 1s - loss: 0.8598 - mse: 0.8597 - val_loss: 0.8845 - val_mse: 0.8843\n",
            "Epoch 5/10\n",
            "62478/62478 - 1s - loss: 0.8548 - mse: 0.8546 - val_loss: 0.8826 - val_mse: 0.8824\n",
            "Epoch 6/10\n",
            "62478/62478 - 1s - loss: 0.8462 - mse: 0.8460 - val_loss: 0.8713 - val_mse: 0.8711\n",
            "Epoch 7/10\n",
            "62478/62478 - 1s - loss: 0.8328 - mse: 0.8326 - val_loss: 0.8664 - val_mse: 0.8662\n",
            "Epoch 8/10\n",
            "62478/62478 - 1s - loss: 0.8251 - mse: 0.8249 - val_loss: 0.8626 - val_mse: 0.8623\n",
            "Epoch 9/10\n",
            "62478/62478 - 1s - loss: 0.8165 - mse: 0.8162 - val_loss: 0.8587 - val_mse: 0.8584\n",
            "Epoch 10/10\n",
            "62478/62478 - 1s - loss: 0.8102 - mse: 0.8099 - val_loss: 0.8582 - val_mse: 0.8579\n"
          ],
          "name": "stdout"
        }
      ]
    },
    {
      "cell_type": "markdown",
      "metadata": {
        "id": "u3XJSE2bKpMf",
        "colab_type": "text"
      },
      "source": [
        "This is the MSE for deepFM model:"
      ]
    },
    {
      "cell_type": "code",
      "metadata": {
        "id": "DydwgtJyKv2I",
        "colab_type": "code",
        "colab": {
          "base_uri": "https://localhost:8080/",
          "height": 33
        },
        "outputId": "5329ef7f-fa7f-4a19-9b8e-85925a1f3b4a"
      },
      "source": [
        "print(\"Test MSE - DeepFM: \", round(mean_squared_error(test[target].values, pred_ans), 4))  "
      ],
      "execution_count": null,
      "outputs": [
        {
          "output_type": "stream",
          "text": [
            "Test MSE - DeepFM:  0.8587\n"
          ],
          "name": "stdout"
        }
      ]
    },
    {
      "cell_type": "markdown",
      "metadata": {
        "id": "jYay8AaKKumY",
        "colab_type": "text"
      },
      "source": [
        "For our second model we are going to use the item popularity model while\n",
        "\n",
        "filtering the Data to contain only users within the same age range and occupation\n",
        "\n",
        "for implified simlarity and see what we get"
      ]
    },
    {
      "cell_type": "code",
      "metadata": {
        "id": "ygsX8j-oK285",
        "colab_type": "code",
        "colab": {
          "base_uri": "https://localhost:8080/",
          "height": 737
        },
        "outputId": "0512650a-0806-4817-d220-b2bbe5fa35bf"
      },
      "source": [
        "def filter_data_by_attributes (data, min_age, max_age, occupation):\n",
        "      filtered_data = data[ (data['occupation'] == occupation) & (data['age'] > min_age) & (data['age'] < max_age)] \n",
        "      return filtered_data\n",
        "\n",
        "train_data = train_set.merge(users_df,on = 'user id').drop(['timestamp'],axis=1)\n",
        "test_data = test_set.merge(users_df,on = 'user id').drop(['timestamp'],axis=1)\n",
        "\n",
        "prepare_train_set = train_data.rename(columns={\"movie id\": \"item_id\", \"user id\": \"user_id\"})\n",
        "prepare_train_set = prepare_train_set.replace(\"item_id\", \"user_id\")\n",
        "prepare_train_set['user_id'] = prepare_train_set['user_id'].astype(str)\n",
        "prepare_train_set['item_id'] = prepare_train_set['item_id'].astype(str)\n",
        "\n",
        "prepare_test_set = test_data.rename(columns={\"movie id\": \"item_id\", \"user id\": \"user_id\"})\n",
        "prepare_test_set = prepare_test_set.replace(\"item_id\", \"user_id\")\n",
        "prepare_test_set['user_id'] = prepare_test_set['user_id'].astype(str)\n",
        "prepare_test_set['item_id'] = prepare_test_set['item_id'].astype(str)\n",
        "\n",
        "train_data_filtered = filter_data_by_attributes(prepare_train_set,20,40,'student')\n",
        "test_data_filtered = filter_data_by_attributes(prepare_test_set,20,40,'student')\n",
        "\n",
        "sf5 = tc.SFrame(train_data_filtered)\n",
        "print(sf5)\n",
        "test_sf2 = tc.SFrame(test_data_filtered)\n",
        "print(test_sf2)\n",
        "\n",
        "user_to_user = tc.popularity_recommender.create(sf5, user_id='user_id', item_id='item_id', target='rating')\n",
        "solution_user_to_user2 = user_to_user.predict(test_sf2)\n",
        "print(solution_user_to_user2)\n",
        "MAE = mean_absolute_error(test_sf2['rating'], solution_user_to_user2)\n",
        "\n",
        "print('{0}  {1}'.format('MAE Filtered User_to_User:', MAE))"
      ],
      "execution_count": null,
      "outputs": [
        {
          "output_type": "stream",
          "text": [
            "+---------+---------+--------+-----+--------+------------+----------+\n",
            "| user_id | item_id | rating | age | gender | occupation | zip code |\n",
            "+---------+---------+--------+-----+--------+------------+----------+\n",
            "|    9    |    7    |   4    |  29 |   M    |  student   |  01002   |\n",
            "|    9    |    50   |   5    |  29 |   M    |  student   |  01002   |\n",
            "|    9    |   201   |   5    |  29 |   M    |  student   |  01002   |\n",
            "|    9    |   242   |   4    |  29 |   M    |  student   |  01002   |\n",
            "|    9    |   276   |   4    |  29 |   M    |  student   |  01002   |\n",
            "|    9    |   294   |   4    |  29 |   M    |  student   |  01002   |\n",
            "|    9    |   371   |   5    |  29 |   M    |  student   |  01002   |\n",
            "|    9    |   385   |   5    |  29 |   M    |  student   |  01002   |\n",
            "|    9    |   402   |   4    |  29 |   M    |  student   |  01002   |\n",
            "|    9    |   483   |   5    |  29 |   M    |  student   |  01002   |\n",
            "+---------+---------+--------+-----+--------+------------+----------+\n",
            "[9060 rows x 7 columns]\n",
            "Note: Only the head of the SFrame is printed.\n",
            "You can use print_rows(num_rows=m, num_columns=n) to print more rows and columns.\n",
            "+---------+---------+--------+-----+--------+------------+----------+\n",
            "| user_id | item_id | rating | age | gender | occupation | zip code |\n",
            "+---------+---------+--------+-----+--------+------------+----------+\n",
            "|    9    |    6    |   5    |  29 |   M    |  student   |  01002   |\n",
            "|    9    |   286   |   5    |  29 |   M    |  student   |  01002   |\n",
            "|    9    |   298   |   5    |  29 |   M    |  student   |  01002   |\n",
            "|    9    |   340   |   4    |  29 |   M    |  student   |  01002   |\n",
            "|    9    |   479   |   4    |  29 |   M    |  student   |  01002   |\n",
            "|    9    |   487   |   5    |  29 |   M    |  student   |  01002   |\n",
            "|    9    |   507   |   4    |  29 |   M    |  student   |  01002   |\n",
            "|    9    |   521   |   4    |  29 |   M    |  student   |  01002   |\n",
            "|    9    |   527   |   3    |  29 |   M    |  student   |  01002   |\n",
            "|    9    |   691   |   5    |  29 |   M    |  student   |  01002   |\n",
            "+---------+---------+--------+-----+--------+------------+----------+\n",
            "[2094 rows x 7 columns]\n",
            "Note: Only the head of the SFrame is printed.\n",
            "You can use print_rows(num_rows=m, num_columns=n) to print more rows and columns.\n"
          ],
          "name": "stdout"
        },
        {
          "output_type": "display_data",
          "data": {
            "text/html": [
              "<pre>Warning: Ignoring columns age, gender, occupation, zip code;</pre>"
            ],
            "text/plain": [
              "Warning: Ignoring columns age, gender, occupation, zip code;"
            ]
          },
          "metadata": {
            "tags": []
          }
        },
        {
          "output_type": "display_data",
          "data": {
            "text/html": [
              "<pre>    To use these columns in scoring predictions, use a model that allows the use of additional features.</pre>"
            ],
            "text/plain": [
              "    To use these columns in scoring predictions, use a model that allows the use of additional features."
            ]
          },
          "metadata": {
            "tags": []
          }
        },
        {
          "output_type": "display_data",
          "data": {
            "text/html": [
              "<pre>Preparing data set.</pre>"
            ],
            "text/plain": [
              "Preparing data set."
            ]
          },
          "metadata": {
            "tags": []
          }
        },
        {
          "output_type": "display_data",
          "data": {
            "text/html": [
              "<pre>    Data has 9060 observations with 105 users and 1026 items.</pre>"
            ],
            "text/plain": [
              "    Data has 9060 observations with 105 users and 1026 items."
            ]
          },
          "metadata": {
            "tags": []
          }
        },
        {
          "output_type": "display_data",
          "data": {
            "text/html": [
              "<pre>    Data prepared in: 0.053949s</pre>"
            ],
            "text/plain": [
              "    Data prepared in: 0.053949s"
            ]
          },
          "metadata": {
            "tags": []
          }
        },
        {
          "output_type": "display_data",
          "data": {
            "text/html": [
              "<pre>9060 observations to process; with 1026 unique items.</pre>"
            ],
            "text/plain": [
              "9060 observations to process; with 1026 unique items."
            ]
          },
          "metadata": {
            "tags": []
          }
        },
        {
          "output_type": "stream",
          "text": [
            "[2.6666666666666665, 3.606060606060606, 3.869565217391304, 4.083333333333333, 4.3076923076923075, 4.333333333333333, 3.5714285714285716, 3.25, 3.9375, 4.0, 3.72972972972973, 3.525, 3.1, 2.263157894736842, 4.0625, 2.75, 3.0, 3.5294117647058822, 3.411764705882353, 3.6153846153846154, 3.8125, 3.857142857142857, 3.814814814814815, 3.25, 3.3703703703703702, 3.7222222222222223, 3.4545454545454546, 3.75, 3.1538461538461537, 3.911111111111111, 4.0, 3.090909090909091, 4.321428571428571, 3.0, 3.5, 3.0588235294117645, 3.4166666666666665, 4.0, 3.0, 3.8076923076923075, 4.0, 3.391304347826087, 3.533333333333333, 4.026315789473684, 3.8285714285714287, 3.525, 3.2962962962962963, 3.9642857142857144, 3.8214285714285716, 3.888888888888889, 3.4634146341463414, 3.72, 3.693877551020408, 3.0, 3.5833333333333335, 2.5, 3.142857142857143, 3.375, 2.5, 3.9555555555555557, 2.5384615384615383, 3.7111111111111112, 3.6666666666666665, 3.8076923076923075, 3.3, 2.9411764705882355, 3.0, 3.7142857142857144, 3.6923076923076925, 3.9, 3.6666666666666665, 2.823529411764706, 3.533333333333333, 4.026315789473684, 3.625, 3.95, 3.0555555555555554, 3.730769230769231, 3.72972972972973, 3.5555555555555554, 3.6666666666666665, 2.8, 3.46875, 4.375, 3.525, 2.263157894736842, 3.142857142857143, 4.071428571428571, 4.0, 3.5, 4.0625, 4.175, 4.2444444444444445, 4.282051282051282, 3.8, 4.16, 3.9, 3.7916666666666665, 3.5945945945945947, 4.444444444444445, ... ]\n",
            "MAE Filtered User_to_User:  0.805727860392855\n"
          ],
          "name": "stdout"
        }
      ]
    },
    {
      "cell_type": "markdown",
      "metadata": {
        "id": "oOHI8AZzLZbB",
        "colab_type": "text"
      },
      "source": [
        "Summeraize: \n",
        "\n",
        "After Manipulating and checking various paremeters on both models we have a got to the conclusion both models are great depends on the situation.\n",
        "\n",
        "The first model using machine learning was the better choise dealing with big data.\n",
        "\n",
        "However, when we \"Manually\" filtered our data's to contain similar users according to their occupation and age, the Second model usually had the upper hand.\n",
        "\n",
        "So, to make things short, if we could use populrity item model on filtered data chunks  - putting users from the same range of age and occupation together, we might get better predicted results, but that's not allways the preffered solution when we are dealing with much bigger data files."
      ]
    }
  ]
}